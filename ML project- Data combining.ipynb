{
 "cells": [
  {
   "cell_type": "code",
   "execution_count": 1,
   "id": "77a461c3",
   "metadata": {},
   "outputs": [],
   "source": [
    "#data manipulation libraries\n",
    "\n",
    "import pandas as pd\n",
    "#data manipulation libraries\n",
    "import csv\n",
    "import pandas as pd\n",
    "import numpy as np\n",
    "import re\n",
    "import string\n",
    "\n",
    "#methods and stopwords\n",
    "from nltk.corpus import stopwords\n",
    "from nltk.tokenize import word_tokenize\n",
    "from nltk.stem import PorterStemmer\n",
    "from nltk.stem import WordNetLemmatizer\n",
    "from sklearn.feature_extraction.text import TfidfVectorizer\n",
    "from sklearn.model_selection import train_test_split\n",
    "\n",
    "##Machine Learning Libraries\n",
    "from sklearn.metrics import accuracy_score\n",
    "from sklearn.naive_bayes import MultinomialNB\n",
    "from sklearn.linear_model import LogisticRegression\n",
    "from sklearn.svm import SVC\n",
    "\n",
    "import warnings\n",
    "warnings.filterwarnings (\"ignore\")"
   ]
  },
  {
   "cell_type": "code",
   "execution_count": 2,
   "id": "1dc0508c",
   "metadata": {},
   "outputs": [],
   "source": [
    "filename=r\"D:\\Russia Ukraine war Dataset\\0401_UkraineCombinedTweetsDeduped.csv.gzip\"\n",
    "df = pd.read_csv(filename, compression='gzip', index_col=0,encoding='utf-8', quoting=csv.QUOTE_ALL)"
   ]
  },
  {
   "cell_type": "code",
   "execution_count": 3,
   "id": "85b83264",
   "metadata": {},
   "outputs": [
    {
     "name": "stdout",
     "output_type": "stream",
     "text": [
      "<class 'pandas.core.frame.DataFrame'>\n",
      "Int64Index: 364875 entries, 0 to 364874\n",
      "Data columns (total 17 columns):\n",
      " #   Column          Non-Null Count   Dtype \n",
      "---  ------          --------------   ----- \n",
      " 0   userid          364875 non-null  int64 \n",
      " 1   username        364875 non-null  object\n",
      " 2   acctdesc        286432 non-null  object\n",
      " 3   location        212933 non-null  object\n",
      " 4   following       364875 non-null  int64 \n",
      " 5   followers       364875 non-null  int64 \n",
      " 6   totaltweets     364875 non-null  int64 \n",
      " 7   usercreatedts   364875 non-null  object\n",
      " 8   tweetid         364875 non-null  int64 \n",
      " 9   tweetcreatedts  364875 non-null  object\n",
      " 10  retweetcount    364875 non-null  int64 \n",
      " 11  text            364875 non-null  object\n",
      " 12  hashtags        364875 non-null  object\n",
      " 13  language        364875 non-null  object\n",
      " 14  coordinates     97 non-null      object\n",
      " 15  favorite_count  364875 non-null  int64 \n",
      " 16  extractedts     364875 non-null  object\n",
      "dtypes: int64(7), object(10)\n",
      "memory usage: 50.1+ MB\n"
     ]
    }
   ],
   "source": [
    "df.info()"
   ]
  },
  {
   "cell_type": "code",
   "execution_count": 4,
   "id": "81fc2c37",
   "metadata": {},
   "outputs": [
    {
     "data": {
      "text/plain": [
       "0         ⚡The Ukrainian Air Force would like to address...\n",
       "1         Chernihiv oblast. Ukrainians welcome their lib...\n",
       "2         America 🇺🇸 is preparing for something worse th...\n",
       "3         JUST IN: #Anonymous has hacked &amp; released ...\n",
       "4         ***PUBLIC MINT NOW LIVE***\\n\\nFor \\n@billionai...\n",
       "                                ...                        \n",
       "364870    @montreal110 @femeninna je trouve plutôt terri...\n",
       "364871    “From where Winston stood it was just possible...\n",
       "364872    When I said tonight in front of 3000 people In...\n",
       "364873    #1Abr #Ucrania \\nVídeo de los helicópteros ucr...\n",
       "364874    We’re back. No funny stuff #UKRAINE https://t....\n",
       "Name: text, Length: 364875, dtype: object"
      ]
     },
     "execution_count": 4,
     "metadata": {},
     "output_type": "execute_result"
    }
   ],
   "source": [
    "df['text']"
   ]
  },
  {
   "cell_type": "code",
   "execution_count": 5,
   "id": "3516dbc5",
   "metadata": {},
   "outputs": [],
   "source": [
    "import os\n",
    "\n",
    "csvs=[]\n",
    "\n",
    "for dirname, _,filenames in os.walk('D:\\Russia Ukraine war Dataset'): #os.walk function helps in navigating the path during loop\n",
    "    filenames.sort()\n",
    "    for filename in filenames:\n",
    "        fullpath= os.path.join(dirname, filename)\n",
    "        csvs.append(fullpath)\n"
   ]
  },
  {
   "cell_type": "code",
   "execution_count": 6,
   "id": "3701aceb",
   "metadata": {
    "scrolled": true
   },
   "outputs": [
    {
     "name": "stdout",
     "output_type": "stream",
     "text": [
      "0401_UkraineCombinedTweetsDeduped.csv.gzip|364875 rows\n",
      "0402_UkraineCombinedTweetsDeduped.csv.gzip|370977 rows\n",
      "0403_UkraineCombinedTweetsDeduped.csv.gzip|445466 rows\n",
      "0404_UkraineCombinedTweetsDeduped.csv.gzip|430421 rows\n",
      "0405_UkraineCombinedTweetsDeduped.csv.gzip|452569 rows\n",
      "0406_UkraineCombinedTweetsDeduped.csv.gzip|422832 rows\n",
      "0407_UkraineCombinedTweetsDeduped.csv.gzip|378652 rows\n",
      "0408_UkraineCombinedTweetsDeduped.csv.gzip|405524 rows\n",
      "0409_UkraineCombinedTweetsDeduped.csv.gzip|402962 rows\n",
      "0410_UkraineCombinedTweetsDeduped.csv.gzip|373130 rows\n",
      "0411_UkraineCombinedTweetsDeduped.csv.gzip|376150 rows\n",
      "0412_UkraineCombinedTweetsDeduped.csv.gzip|395296 rows\n",
      "0413_UkraineCombinedTweetsDeduped.csv.gzip|388280 rows\n",
      "0414_UkraineCombinedTweetsDeduped.csv.gzip|366631 rows\n",
      "0415_UkraineCombinedTweetsDeduped.csv.gzip|358050 rows\n",
      "0416_UkraineCombinedTweetsDeduped.csv.gzip|332860 rows\n",
      "0417_UkraineCombinedTweetsDeduped.csv.gzip|325909 rows\n",
      "0418_UkraineCombinedTweetsDeduped.csv.gzip|335869 rows\n",
      "0419_UkraineCombinedTweetsDeduped.csv.gzip|416516 rows\n",
      "0420_UkraineCombinedTweetsDeduped.csv.gzip|397197 rows\n",
      "0421_UkraineCombinedTweetsDeduped.csv.gzip|361151 rows\n",
      "UkraineCombinedTweetsDeduped20220227-131611.csv.gzip|1229349 rows\n",
      "UkraineCombinedTweetsDeduped_FEB27.csv.gzip|357018 rows\n",
      "UkraineCombinedTweetsDeduped_FEB28_part1.csv.gzip|237787 rows\n",
      "UkraineCombinedTweetsDeduped_FEB28_part2.csv.gzip|140384 rows\n",
      "UkraineCombinedTweetsDeduped_MAR01.csv.gzip|409279 rows\n",
      "UkraineCombinedTweetsDeduped_MAR02.csv.gzip|417031 rows\n",
      "UkraineCombinedTweetsDeduped_MAR03.csv.gzip|395772 rows\n",
      "UkraineCombinedTweetsDeduped_MAR04.csv.gzip|480290 rows\n",
      "UkraineCombinedTweetsDeduped_MAR05.csv.gzip|546780 rows\n",
      "UkraineCombinedTweetsDeduped_MAR06.csv.gzip|566767 rows\n",
      "UkraineCombinedTweetsDeduped_MAR07.csv.gzip|567745 rows\n",
      "UkraineCombinedTweetsDeduped_MAR08.csv.gzip|519385 rows\n",
      "UkraineCombinedTweetsDeduped_MAR09.csv.gzip|493857 rows\n",
      "UkraineCombinedTweetsDeduped_MAR10.csv.gzip|460075 rows\n",
      "UkraineCombinedTweetsDeduped_MAR11.csv.gzip|410400 rows\n",
      "UkraineCombinedTweetsDeduped_MAR12.csv.gzip|397945 rows\n",
      "UkraineCombinedTweetsDeduped_MAR13.csv.gzip|452016 rows\n",
      "UkraineCombinedTweetsDeduped_MAR14.csv.gzip|428539 rows\n",
      "UkraineCombinedTweetsDeduped_MAR15.csv.gzip|484221 rows\n",
      "UkraineCombinedTweetsDeduped_MAR16.csv.gzip|440897 rows\n",
      "UkraineCombinedTweetsDeduped_MAR17.csv.gzip|468632 rows\n",
      "UkraineCombinedTweetsDeduped_MAR18.csv.gzip|468098 rows\n",
      "UkraineCombinedTweetsDeduped_MAR19.csv.gzip|442668 rows\n",
      "UkraineCombinedTweetsDeduped_MAR20.csv.gzip|423345 rows\n",
      "UkraineCombinedTweetsDeduped_MAR21.csv.gzip|480519 rows\n",
      "UkraineCombinedTweetsDeduped_MAR22.csv.gzip|413122 rows\n",
      "UkraineCombinedTweetsDeduped_MAR23.csv.gzip|412455 rows\n",
      "UkraineCombinedTweetsDeduped_MAR24.csv.gzip|377813 rows\n",
      "UkraineCombinedTweetsDeduped_MAR25.csv.gzip|424127 rows\n",
      "UkraineCombinedTweetsDeduped_MAR26.csv.gzip|411296 rows\n",
      "UkraineCombinedTweetsDeduped_MAR27_to_28.csv.gzip|768164 rows\n",
      "UkraineCombinedTweetsDeduped_MAR29.csv.gzip|364124 rows\n",
      "UkraineCombinedTweetsDeduped_MAR30_REAL.csv.gzip|348864 rows\n",
      "UkraineCombinedTweetsDeduped_MAR31.csv.gzip|344515 rows\n"
     ]
    },
    {
     "data": {
      "text/plain": [
       "0"
      ]
     },
     "execution_count": 6,
     "metadata": {},
     "output_type": "execute_result"
    }
   ],
   "source": [
    "import csv\n",
    "import gc\n",
    "from pathlib import Path\n",
    "\n",
    "\n",
    "columns=[\"userid\",\"acctdesc\",\"location\",\"following\",\"followers\",\"totaltweets\",\"retweetcount\",\"favorite_count\",\"language\",\"text\",\"hashtags\",\"extractedts\" ]\n",
    "csvs.sort()\n",
    "dataframe_collection=[]\n",
    "\n",
    "\n",
    "for csvfile in csvs:\n",
    "    dff=pd.read_csv(csvfile,compression='gzip',index_col=0,encoding='utf-8',quoting=csv.QUOTE_ALL)\n",
    "    dff=dff[columns]\n",
    "    dataframe_collection.append(dff)\n",
    "    print(\"{}|{} rows\".format(Path(csvfile).name,len(dff)))\n",
    "    \n",
    "gc.collect()    \n"
   ]
  },
  {
   "cell_type": "code",
   "execution_count": 7,
   "id": "98ad23f9",
   "metadata": {},
   "outputs": [
    {
     "data": {
      "text/plain": [
       "(23684596, 12)"
      ]
     },
     "execution_count": 7,
     "metadata": {},
     "output_type": "execute_result"
    }
   ],
   "source": [
    "df_combined = pd.concat(dataframe_collection, axis=0)\n",
    "df_combined.shape"
   ]
  },
  {
   "cell_type": "code",
   "execution_count": 8,
   "id": "d4c49442",
   "metadata": {},
   "outputs": [
    {
     "data": {
      "text/html": [
       "<div>\n",
       "<style scoped>\n",
       "    .dataframe tbody tr th:only-of-type {\n",
       "        vertical-align: middle;\n",
       "    }\n",
       "\n",
       "    .dataframe tbody tr th {\n",
       "        vertical-align: top;\n",
       "    }\n",
       "\n",
       "    .dataframe thead th {\n",
       "        text-align: right;\n",
       "    }\n",
       "</style>\n",
       "<table border=\"1\" class=\"dataframe\">\n",
       "  <thead>\n",
       "    <tr style=\"text-align: right;\">\n",
       "      <th></th>\n",
       "      <th>userid</th>\n",
       "      <th>acctdesc</th>\n",
       "      <th>location</th>\n",
       "      <th>following</th>\n",
       "      <th>followers</th>\n",
       "      <th>totaltweets</th>\n",
       "      <th>retweetcount</th>\n",
       "      <th>favorite_count</th>\n",
       "      <th>language</th>\n",
       "      <th>text</th>\n",
       "      <th>hashtags</th>\n",
       "      <th>extractedts</th>\n",
       "    </tr>\n",
       "  </thead>\n",
       "  <tbody>\n",
       "    <tr>\n",
       "      <th>0</th>\n",
       "      <td>16882774</td>\n",
       "      <td>Animal lover, supports those who fight injusti...</td>\n",
       "      <td>Hawaii</td>\n",
       "      <td>1158</td>\n",
       "      <td>392</td>\n",
       "      <td>88366</td>\n",
       "      <td>3412</td>\n",
       "      <td>0</td>\n",
       "      <td>en</td>\n",
       "      <td>⚡The Ukrainian Air Force would like to address...</td>\n",
       "      <td>[]</td>\n",
       "      <td>2022-04-01 00:44:20.097867</td>\n",
       "    </tr>\n",
       "    <tr>\n",
       "      <th>1</th>\n",
       "      <td>3205296069</td>\n",
       "      <td>NaN</td>\n",
       "      <td>NaN</td>\n",
       "      <td>122</td>\n",
       "      <td>881</td>\n",
       "      <td>99853</td>\n",
       "      <td>100</td>\n",
       "      <td>0</td>\n",
       "      <td>en</td>\n",
       "      <td>Chernihiv oblast. Ukrainians welcome their lib...</td>\n",
       "      <td>[{'text': 'russianinvasion', 'indices': [77, 9...</td>\n",
       "      <td>2022-04-01 00:09:37.148770</td>\n",
       "    </tr>\n",
       "    <tr>\n",
       "      <th>2</th>\n",
       "      <td>1235940869812809728</td>\n",
       "      <td>เล่นไวโอลิน\\nพูดภาษาจีน</td>\n",
       "      <td>NaN</td>\n",
       "      <td>231</td>\n",
       "      <td>72</td>\n",
       "      <td>5481</td>\n",
       "      <td>9</td>\n",
       "      <td>0</td>\n",
       "      <td>en</td>\n",
       "      <td>America 🇺🇸 is preparing for something worse th...</td>\n",
       "      <td>[{'text': 'RussianUkrainianWar', 'indices': [7...</td>\n",
       "      <td>2022-04-01 00:09:37.125654</td>\n",
       "    </tr>\n",
       "    <tr>\n",
       "      <th>3</th>\n",
       "      <td>1347985375566966784</td>\n",
       "      <td>01000001 01101110 01101111 01101110 01111001 0...</td>\n",
       "      <td>International Web Zone</td>\n",
       "      <td>399</td>\n",
       "      <td>377</td>\n",
       "      <td>301</td>\n",
       "      <td>573</td>\n",
       "      <td>0</td>\n",
       "      <td>en</td>\n",
       "      <td>JUST IN: #Anonymous has hacked &amp;amp; released ...</td>\n",
       "      <td>[{'text': 'Anonymous', 'indices': [25, 35]}]</td>\n",
       "      <td>2022-04-01 00:31:39.674382</td>\n",
       "    </tr>\n",
       "    <tr>\n",
       "      <th>4</th>\n",
       "      <td>1505394816636846083</td>\n",
       "      <td>🌿@Pickaw @TWITTERPICKER 🌿Winning isn’t everyth...</td>\n",
       "      <td>Hunter Account</td>\n",
       "      <td>158</td>\n",
       "      <td>25</td>\n",
       "      <td>8982</td>\n",
       "      <td>190</td>\n",
       "      <td>0</td>\n",
       "      <td>en</td>\n",
       "      <td>***PUBLIC MINT NOW LIVE***\\n\\nFor \\n@billionai...</td>\n",
       "      <td>[]</td>\n",
       "      <td>2022-04-01 00:09:37.101459</td>\n",
       "    </tr>\n",
       "  </tbody>\n",
       "</table>\n",
       "</div>"
      ],
      "text/plain": [
       "                userid                                           acctdesc  \\\n",
       "0             16882774  Animal lover, supports those who fight injusti...   \n",
       "1           3205296069                                                NaN   \n",
       "2  1235940869812809728                            เล่นไวโอลิน\\nพูดภาษาจีน   \n",
       "3  1347985375566966784  01000001 01101110 01101111 01101110 01111001 0...   \n",
       "4  1505394816636846083  🌿@Pickaw @TWITTERPICKER 🌿Winning isn’t everyth...   \n",
       "\n",
       "                 location  following  followers  totaltweets  retweetcount  \\\n",
       "0                  Hawaii       1158        392        88366          3412   \n",
       "1                     NaN        122        881        99853           100   \n",
       "2                     NaN        231         72         5481             9   \n",
       "3  International Web Zone        399        377          301           573   \n",
       "4          Hunter Account        158         25         8982           190   \n",
       "\n",
       "   favorite_count language                                               text  \\\n",
       "0               0       en  ⚡The Ukrainian Air Force would like to address...   \n",
       "1               0       en  Chernihiv oblast. Ukrainians welcome their lib...   \n",
       "2               0       en  America 🇺🇸 is preparing for something worse th...   \n",
       "3               0       en  JUST IN: #Anonymous has hacked &amp; released ...   \n",
       "4               0       en  ***PUBLIC MINT NOW LIVE***\\n\\nFor \\n@billionai...   \n",
       "\n",
       "                                            hashtags  \\\n",
       "0                                                 []   \n",
       "1  [{'text': 'russianinvasion', 'indices': [77, 9...   \n",
       "2  [{'text': 'RussianUkrainianWar', 'indices': [7...   \n",
       "3       [{'text': 'Anonymous', 'indices': [25, 35]}]   \n",
       "4                                                 []   \n",
       "\n",
       "                  extractedts  \n",
       "0  2022-04-01 00:44:20.097867  \n",
       "1  2022-04-01 00:09:37.148770  \n",
       "2  2022-04-01 00:09:37.125654  \n",
       "3  2022-04-01 00:31:39.674382  \n",
       "4  2022-04-01 00:09:37.101459  "
      ]
     },
     "execution_count": 8,
     "metadata": {},
     "output_type": "execute_result"
    }
   ],
   "source": [
    "df_combined.head()"
   ]
  },
  {
   "cell_type": "code",
   "execution_count": 9,
   "id": "adb898bc",
   "metadata": {},
   "outputs": [
    {
     "ename": "MemoryError",
     "evalue": "Unable to allocate 1.06 GiB for an array with shape (6, 23684596) and data type int64",
     "output_type": "error",
     "traceback": [
      "\u001b[1;31m---------------------------------------------------------------------------\u001b[0m",
      "\u001b[1;31mMemoryError\u001b[0m                               Traceback (most recent call last)",
      "\u001b[1;32m<ipython-input-9-50879af4905a>\u001b[0m in \u001b[0;36m<module>\u001b[1;34m\u001b[0m\n\u001b[0;32m      1\u001b[0m \u001b[0mdf1\u001b[0m\u001b[1;33m=\u001b[0m\u001b[0mdf_combined\u001b[0m\u001b[1;33m\u001b[0m\u001b[1;33m\u001b[0m\u001b[0m\n\u001b[0;32m      2\u001b[0m \u001b[0mdf1\u001b[0m\u001b[1;33m.\u001b[0m\u001b[0mhead\u001b[0m\u001b[1;33m(\u001b[0m\u001b[1;33m)\u001b[0m\u001b[1;33m\u001b[0m\u001b[1;33m\u001b[0m\u001b[0m\n\u001b[1;32m----> 3\u001b[1;33m df1.drop_duplicates(subset =\"text\",\n\u001b[0m\u001b[0;32m      4\u001b[0m                      keep = False, inplace = True)\n",
      "\u001b[1;32m~\\anaconda3\\lib\\site-packages\\pandas\\core\\frame.py\u001b[0m in \u001b[0;36mdrop_duplicates\u001b[1;34m(self, subset, keep, inplace, ignore_index)\u001b[0m\n\u001b[0;32m   5271\u001b[0m         \u001b[0mduplicated\u001b[0m \u001b[1;33m=\u001b[0m \u001b[0mself\u001b[0m\u001b[1;33m.\u001b[0m\u001b[0mduplicated\u001b[0m\u001b[1;33m(\u001b[0m\u001b[0msubset\u001b[0m\u001b[1;33m,\u001b[0m \u001b[0mkeep\u001b[0m\u001b[1;33m=\u001b[0m\u001b[0mkeep\u001b[0m\u001b[1;33m)\u001b[0m\u001b[1;33m\u001b[0m\u001b[1;33m\u001b[0m\u001b[0m\n\u001b[0;32m   5272\u001b[0m \u001b[1;33m\u001b[0m\u001b[0m\n\u001b[1;32m-> 5273\u001b[1;33m         \u001b[0mresult\u001b[0m \u001b[1;33m=\u001b[0m \u001b[0mself\u001b[0m\u001b[1;33m[\u001b[0m\u001b[1;33m-\u001b[0m\u001b[0mduplicated\u001b[0m\u001b[1;33m]\u001b[0m\u001b[1;33m\u001b[0m\u001b[1;33m\u001b[0m\u001b[0m\n\u001b[0m\u001b[0;32m   5274\u001b[0m         \u001b[1;32mif\u001b[0m \u001b[0mignore_index\u001b[0m\u001b[1;33m:\u001b[0m\u001b[1;33m\u001b[0m\u001b[1;33m\u001b[0m\u001b[0m\n\u001b[0;32m   5275\u001b[0m             \u001b[0mresult\u001b[0m\u001b[1;33m.\u001b[0m\u001b[0mindex\u001b[0m \u001b[1;33m=\u001b[0m \u001b[0mibase\u001b[0m\u001b[1;33m.\u001b[0m\u001b[0mdefault_index\u001b[0m\u001b[1;33m(\u001b[0m\u001b[0mlen\u001b[0m\u001b[1;33m(\u001b[0m\u001b[0mresult\u001b[0m\u001b[1;33m)\u001b[0m\u001b[1;33m)\u001b[0m\u001b[1;33m\u001b[0m\u001b[1;33m\u001b[0m\u001b[0m\n",
      "\u001b[1;32m~\\anaconda3\\lib\\site-packages\\pandas\\core\\frame.py\u001b[0m in \u001b[0;36m__getitem__\u001b[1;34m(self, key)\u001b[0m\n\u001b[0;32m   3013\u001b[0m         \u001b[1;31m# Do we have a (boolean) 1d indexer?\u001b[0m\u001b[1;33m\u001b[0m\u001b[1;33m\u001b[0m\u001b[1;33m\u001b[0m\u001b[0m\n\u001b[0;32m   3014\u001b[0m         \u001b[1;32mif\u001b[0m \u001b[0mcom\u001b[0m\u001b[1;33m.\u001b[0m\u001b[0mis_bool_indexer\u001b[0m\u001b[1;33m(\u001b[0m\u001b[0mkey\u001b[0m\u001b[1;33m)\u001b[0m\u001b[1;33m:\u001b[0m\u001b[1;33m\u001b[0m\u001b[1;33m\u001b[0m\u001b[0m\n\u001b[1;32m-> 3015\u001b[1;33m             \u001b[1;32mreturn\u001b[0m \u001b[0mself\u001b[0m\u001b[1;33m.\u001b[0m\u001b[0m_getitem_bool_array\u001b[0m\u001b[1;33m(\u001b[0m\u001b[0mkey\u001b[0m\u001b[1;33m)\u001b[0m\u001b[1;33m\u001b[0m\u001b[1;33m\u001b[0m\u001b[0m\n\u001b[0m\u001b[0;32m   3016\u001b[0m \u001b[1;33m\u001b[0m\u001b[0m\n\u001b[0;32m   3017\u001b[0m         \u001b[1;31m# We are left with two options: a single key, and a collection of keys,\u001b[0m\u001b[1;33m\u001b[0m\u001b[1;33m\u001b[0m\u001b[1;33m\u001b[0m\u001b[0m\n",
      "\u001b[1;32m~\\anaconda3\\lib\\site-packages\\pandas\\core\\frame.py\u001b[0m in \u001b[0;36m_getitem_bool_array\u001b[1;34m(self, key)\u001b[0m\n\u001b[0;32m   3068\u001b[0m         \u001b[0mkey\u001b[0m \u001b[1;33m=\u001b[0m \u001b[0mcheck_bool_indexer\u001b[0m\u001b[1;33m(\u001b[0m\u001b[0mself\u001b[0m\u001b[1;33m.\u001b[0m\u001b[0mindex\u001b[0m\u001b[1;33m,\u001b[0m \u001b[0mkey\u001b[0m\u001b[1;33m)\u001b[0m\u001b[1;33m\u001b[0m\u001b[1;33m\u001b[0m\u001b[0m\n\u001b[0;32m   3069\u001b[0m         \u001b[0mindexer\u001b[0m \u001b[1;33m=\u001b[0m \u001b[0mkey\u001b[0m\u001b[1;33m.\u001b[0m\u001b[0mnonzero\u001b[0m\u001b[1;33m(\u001b[0m\u001b[1;33m)\u001b[0m\u001b[1;33m[\u001b[0m\u001b[1;36m0\u001b[0m\u001b[1;33m]\u001b[0m\u001b[1;33m\u001b[0m\u001b[1;33m\u001b[0m\u001b[0m\n\u001b[1;32m-> 3070\u001b[1;33m         \u001b[1;32mreturn\u001b[0m \u001b[0mself\u001b[0m\u001b[1;33m.\u001b[0m\u001b[0m_take_with_is_copy\u001b[0m\u001b[1;33m(\u001b[0m\u001b[0mindexer\u001b[0m\u001b[1;33m,\u001b[0m \u001b[0maxis\u001b[0m\u001b[1;33m=\u001b[0m\u001b[1;36m0\u001b[0m\u001b[1;33m)\u001b[0m\u001b[1;33m\u001b[0m\u001b[1;33m\u001b[0m\u001b[0m\n\u001b[0m\u001b[0;32m   3071\u001b[0m \u001b[1;33m\u001b[0m\u001b[0m\n\u001b[0;32m   3072\u001b[0m     \u001b[1;32mdef\u001b[0m \u001b[0m_getitem_multilevel\u001b[0m\u001b[1;33m(\u001b[0m\u001b[0mself\u001b[0m\u001b[1;33m,\u001b[0m \u001b[0mkey\u001b[0m\u001b[1;33m)\u001b[0m\u001b[1;33m:\u001b[0m\u001b[1;33m\u001b[0m\u001b[1;33m\u001b[0m\u001b[0m\n",
      "\u001b[1;32m~\\anaconda3\\lib\\site-packages\\pandas\\core\\generic.py\u001b[0m in \u001b[0;36m_take_with_is_copy\u001b[1;34m(self, indices, axis)\u001b[0m\n\u001b[0;32m   3598\u001b[0m         \u001b[0mSee\u001b[0m \u001b[0mthe\u001b[0m \u001b[0mdocstring\u001b[0m \u001b[0mof\u001b[0m\u001b[0;31m \u001b[0m\u001b[0;31m`\u001b[0m\u001b[0mtake\u001b[0m\u001b[0;31m`\u001b[0m \u001b[1;32mfor\u001b[0m \u001b[0mfull\u001b[0m \u001b[0mexplanation\u001b[0m \u001b[0mof\u001b[0m \u001b[0mthe\u001b[0m \u001b[0mparameters\u001b[0m\u001b[1;33m.\u001b[0m\u001b[1;33m\u001b[0m\u001b[1;33m\u001b[0m\u001b[0m\n\u001b[0;32m   3599\u001b[0m         \"\"\"\n\u001b[1;32m-> 3600\u001b[1;33m         \u001b[0mresult\u001b[0m \u001b[1;33m=\u001b[0m \u001b[0mself\u001b[0m\u001b[1;33m.\u001b[0m\u001b[0mtake\u001b[0m\u001b[1;33m(\u001b[0m\u001b[0mindices\u001b[0m\u001b[1;33m=\u001b[0m\u001b[0mindices\u001b[0m\u001b[1;33m,\u001b[0m \u001b[0maxis\u001b[0m\u001b[1;33m=\u001b[0m\u001b[0maxis\u001b[0m\u001b[1;33m)\u001b[0m\u001b[1;33m\u001b[0m\u001b[1;33m\u001b[0m\u001b[0m\n\u001b[0m\u001b[0;32m   3601\u001b[0m         \u001b[1;31m# Maybe set copy if we didn't actually change the index.\u001b[0m\u001b[1;33m\u001b[0m\u001b[1;33m\u001b[0m\u001b[1;33m\u001b[0m\u001b[0m\n\u001b[0;32m   3602\u001b[0m         \u001b[1;32mif\u001b[0m \u001b[1;32mnot\u001b[0m \u001b[0mresult\u001b[0m\u001b[1;33m.\u001b[0m\u001b[0m_get_axis\u001b[0m\u001b[1;33m(\u001b[0m\u001b[0maxis\u001b[0m\u001b[1;33m)\u001b[0m\u001b[1;33m.\u001b[0m\u001b[0mequals\u001b[0m\u001b[1;33m(\u001b[0m\u001b[0mself\u001b[0m\u001b[1;33m.\u001b[0m\u001b[0m_get_axis\u001b[0m\u001b[1;33m(\u001b[0m\u001b[0maxis\u001b[0m\u001b[1;33m)\u001b[0m\u001b[1;33m)\u001b[0m\u001b[1;33m:\u001b[0m\u001b[1;33m\u001b[0m\u001b[1;33m\u001b[0m\u001b[0m\n",
      "\u001b[1;32m~\\anaconda3\\lib\\site-packages\\pandas\\core\\generic.py\u001b[0m in \u001b[0;36mtake\u001b[1;34m(self, indices, axis, is_copy, **kwargs)\u001b[0m\n\u001b[0;32m   3582\u001b[0m         \u001b[0mnv\u001b[0m\u001b[1;33m.\u001b[0m\u001b[0mvalidate_take\u001b[0m\u001b[1;33m(\u001b[0m\u001b[1;33m(\u001b[0m\u001b[1;33m)\u001b[0m\u001b[1;33m,\u001b[0m \u001b[0mkwargs\u001b[0m\u001b[1;33m)\u001b[0m\u001b[1;33m\u001b[0m\u001b[1;33m\u001b[0m\u001b[0m\n\u001b[0;32m   3583\u001b[0m \u001b[1;33m\u001b[0m\u001b[0m\n\u001b[1;32m-> 3584\u001b[1;33m         \u001b[0mself\u001b[0m\u001b[1;33m.\u001b[0m\u001b[0m_consolidate_inplace\u001b[0m\u001b[1;33m(\u001b[0m\u001b[1;33m)\u001b[0m\u001b[1;33m\u001b[0m\u001b[1;33m\u001b[0m\u001b[0m\n\u001b[0m\u001b[0;32m   3585\u001b[0m \u001b[1;33m\u001b[0m\u001b[0m\n\u001b[0;32m   3586\u001b[0m         new_data = self._mgr.take(\n",
      "\u001b[1;32m~\\anaconda3\\lib\\site-packages\\pandas\\core\\generic.py\u001b[0m in \u001b[0;36m_consolidate_inplace\u001b[1;34m(self)\u001b[0m\n\u001b[0;32m   5539\u001b[0m             \u001b[0mself\u001b[0m\u001b[1;33m.\u001b[0m\u001b[0m_mgr\u001b[0m \u001b[1;33m=\u001b[0m \u001b[0mself\u001b[0m\u001b[1;33m.\u001b[0m\u001b[0m_mgr\u001b[0m\u001b[1;33m.\u001b[0m\u001b[0mconsolidate\u001b[0m\u001b[1;33m(\u001b[0m\u001b[1;33m)\u001b[0m\u001b[1;33m\u001b[0m\u001b[1;33m\u001b[0m\u001b[0m\n\u001b[0;32m   5540\u001b[0m \u001b[1;33m\u001b[0m\u001b[0m\n\u001b[1;32m-> 5541\u001b[1;33m         \u001b[0mself\u001b[0m\u001b[1;33m.\u001b[0m\u001b[0m_protect_consolidate\u001b[0m\u001b[1;33m(\u001b[0m\u001b[0mf\u001b[0m\u001b[1;33m)\u001b[0m\u001b[1;33m\u001b[0m\u001b[1;33m\u001b[0m\u001b[0m\n\u001b[0m\u001b[0;32m   5542\u001b[0m \u001b[1;33m\u001b[0m\u001b[0m\n\u001b[0;32m   5543\u001b[0m     \u001b[1;33m@\u001b[0m\u001b[0mfinal\u001b[0m\u001b[1;33m\u001b[0m\u001b[1;33m\u001b[0m\u001b[0m\n",
      "\u001b[1;32m~\\anaconda3\\lib\\site-packages\\pandas\\core\\generic.py\u001b[0m in \u001b[0;36m_protect_consolidate\u001b[1;34m(self, f)\u001b[0m\n\u001b[0;32m   5527\u001b[0m         \"\"\"\n\u001b[0;32m   5528\u001b[0m         \u001b[0mblocks_before\u001b[0m \u001b[1;33m=\u001b[0m \u001b[0mlen\u001b[0m\u001b[1;33m(\u001b[0m\u001b[0mself\u001b[0m\u001b[1;33m.\u001b[0m\u001b[0m_mgr\u001b[0m\u001b[1;33m.\u001b[0m\u001b[0mblocks\u001b[0m\u001b[1;33m)\u001b[0m\u001b[1;33m\u001b[0m\u001b[1;33m\u001b[0m\u001b[0m\n\u001b[1;32m-> 5529\u001b[1;33m         \u001b[0mresult\u001b[0m \u001b[1;33m=\u001b[0m \u001b[0mf\u001b[0m\u001b[1;33m(\u001b[0m\u001b[1;33m)\u001b[0m\u001b[1;33m\u001b[0m\u001b[1;33m\u001b[0m\u001b[0m\n\u001b[0m\u001b[0;32m   5530\u001b[0m         \u001b[1;32mif\u001b[0m \u001b[0mlen\u001b[0m\u001b[1;33m(\u001b[0m\u001b[0mself\u001b[0m\u001b[1;33m.\u001b[0m\u001b[0m_mgr\u001b[0m\u001b[1;33m.\u001b[0m\u001b[0mblocks\u001b[0m\u001b[1;33m)\u001b[0m \u001b[1;33m!=\u001b[0m \u001b[0mblocks_before\u001b[0m\u001b[1;33m:\u001b[0m\u001b[1;33m\u001b[0m\u001b[1;33m\u001b[0m\u001b[0m\n\u001b[0;32m   5531\u001b[0m             \u001b[0mself\u001b[0m\u001b[1;33m.\u001b[0m\u001b[0m_clear_item_cache\u001b[0m\u001b[1;33m(\u001b[0m\u001b[1;33m)\u001b[0m\u001b[1;33m\u001b[0m\u001b[1;33m\u001b[0m\u001b[0m\n",
      "\u001b[1;32m~\\anaconda3\\lib\\site-packages\\pandas\\core\\generic.py\u001b[0m in \u001b[0;36mf\u001b[1;34m()\u001b[0m\n\u001b[0;32m   5537\u001b[0m \u001b[1;33m\u001b[0m\u001b[0m\n\u001b[0;32m   5538\u001b[0m         \u001b[1;32mdef\u001b[0m \u001b[0mf\u001b[0m\u001b[1;33m(\u001b[0m\u001b[1;33m)\u001b[0m\u001b[1;33m:\u001b[0m\u001b[1;33m\u001b[0m\u001b[1;33m\u001b[0m\u001b[0m\n\u001b[1;32m-> 5539\u001b[1;33m             \u001b[0mself\u001b[0m\u001b[1;33m.\u001b[0m\u001b[0m_mgr\u001b[0m \u001b[1;33m=\u001b[0m \u001b[0mself\u001b[0m\u001b[1;33m.\u001b[0m\u001b[0m_mgr\u001b[0m\u001b[1;33m.\u001b[0m\u001b[0mconsolidate\u001b[0m\u001b[1;33m(\u001b[0m\u001b[1;33m)\u001b[0m\u001b[1;33m\u001b[0m\u001b[1;33m\u001b[0m\u001b[0m\n\u001b[0m\u001b[0;32m   5540\u001b[0m \u001b[1;33m\u001b[0m\u001b[0m\n\u001b[0;32m   5541\u001b[0m         \u001b[0mself\u001b[0m\u001b[1;33m.\u001b[0m\u001b[0m_protect_consolidate\u001b[0m\u001b[1;33m(\u001b[0m\u001b[0mf\u001b[0m\u001b[1;33m)\u001b[0m\u001b[1;33m\u001b[0m\u001b[1;33m\u001b[0m\u001b[0m\n",
      "\u001b[1;32m~\\anaconda3\\lib\\site-packages\\pandas\\core\\internals\\managers.py\u001b[0m in \u001b[0;36mconsolidate\u001b[1;34m(self)\u001b[0m\n\u001b[0;32m    986\u001b[0m         \u001b[0mbm\u001b[0m \u001b[1;33m=\u001b[0m \u001b[0mtype\u001b[0m\u001b[1;33m(\u001b[0m\u001b[0mself\u001b[0m\u001b[1;33m)\u001b[0m\u001b[1;33m(\u001b[0m\u001b[0mself\u001b[0m\u001b[1;33m.\u001b[0m\u001b[0mblocks\u001b[0m\u001b[1;33m,\u001b[0m \u001b[0mself\u001b[0m\u001b[1;33m.\u001b[0m\u001b[0maxes\u001b[0m\u001b[1;33m)\u001b[0m\u001b[1;33m\u001b[0m\u001b[1;33m\u001b[0m\u001b[0m\n\u001b[0;32m    987\u001b[0m         \u001b[0mbm\u001b[0m\u001b[1;33m.\u001b[0m\u001b[0m_is_consolidated\u001b[0m \u001b[1;33m=\u001b[0m \u001b[1;32mFalse\u001b[0m\u001b[1;33m\u001b[0m\u001b[1;33m\u001b[0m\u001b[0m\n\u001b[1;32m--> 988\u001b[1;33m         \u001b[0mbm\u001b[0m\u001b[1;33m.\u001b[0m\u001b[0m_consolidate_inplace\u001b[0m\u001b[1;33m(\u001b[0m\u001b[1;33m)\u001b[0m\u001b[1;33m\u001b[0m\u001b[1;33m\u001b[0m\u001b[0m\n\u001b[0m\u001b[0;32m    989\u001b[0m         \u001b[1;32mreturn\u001b[0m \u001b[0mbm\u001b[0m\u001b[1;33m\u001b[0m\u001b[1;33m\u001b[0m\u001b[0m\n\u001b[0;32m    990\u001b[0m \u001b[1;33m\u001b[0m\u001b[0m\n",
      "\u001b[1;32m~\\anaconda3\\lib\\site-packages\\pandas\\core\\internals\\managers.py\u001b[0m in \u001b[0;36m_consolidate_inplace\u001b[1;34m(self)\u001b[0m\n\u001b[0;32m    991\u001b[0m     \u001b[1;32mdef\u001b[0m \u001b[0m_consolidate_inplace\u001b[0m\u001b[1;33m(\u001b[0m\u001b[0mself\u001b[0m\u001b[1;33m)\u001b[0m \u001b[1;33m->\u001b[0m \u001b[1;32mNone\u001b[0m\u001b[1;33m:\u001b[0m\u001b[1;33m\u001b[0m\u001b[1;33m\u001b[0m\u001b[0m\n\u001b[0;32m    992\u001b[0m         \u001b[1;32mif\u001b[0m \u001b[1;32mnot\u001b[0m \u001b[0mself\u001b[0m\u001b[1;33m.\u001b[0m\u001b[0mis_consolidated\u001b[0m\u001b[1;33m(\u001b[0m\u001b[1;33m)\u001b[0m\u001b[1;33m:\u001b[0m\u001b[1;33m\u001b[0m\u001b[1;33m\u001b[0m\u001b[0m\n\u001b[1;32m--> 993\u001b[1;33m             \u001b[0mself\u001b[0m\u001b[1;33m.\u001b[0m\u001b[0mblocks\u001b[0m \u001b[1;33m=\u001b[0m \u001b[0mtuple\u001b[0m\u001b[1;33m(\u001b[0m\u001b[0m_consolidate\u001b[0m\u001b[1;33m(\u001b[0m\u001b[0mself\u001b[0m\u001b[1;33m.\u001b[0m\u001b[0mblocks\u001b[0m\u001b[1;33m)\u001b[0m\u001b[1;33m)\u001b[0m\u001b[1;33m\u001b[0m\u001b[1;33m\u001b[0m\u001b[0m\n\u001b[0m\u001b[0;32m    994\u001b[0m             \u001b[0mself\u001b[0m\u001b[1;33m.\u001b[0m\u001b[0m_is_consolidated\u001b[0m \u001b[1;33m=\u001b[0m \u001b[1;32mTrue\u001b[0m\u001b[1;33m\u001b[0m\u001b[1;33m\u001b[0m\u001b[0m\n\u001b[0;32m    995\u001b[0m             \u001b[0mself\u001b[0m\u001b[1;33m.\u001b[0m\u001b[0m_known_consolidated\u001b[0m \u001b[1;33m=\u001b[0m \u001b[1;32mTrue\u001b[0m\u001b[1;33m\u001b[0m\u001b[1;33m\u001b[0m\u001b[0m\n",
      "\u001b[1;32m~\\anaconda3\\lib\\site-packages\\pandas\\core\\internals\\managers.py\u001b[0m in \u001b[0;36m_consolidate\u001b[1;34m(blocks)\u001b[0m\n\u001b[0;32m   1914\u001b[0m     \u001b[0mnew_blocks\u001b[0m\u001b[1;33m:\u001b[0m \u001b[0mList\u001b[0m\u001b[1;33m[\u001b[0m\u001b[0mBlock\u001b[0m\u001b[1;33m]\u001b[0m \u001b[1;33m=\u001b[0m \u001b[1;33m[\u001b[0m\u001b[1;33m]\u001b[0m\u001b[1;33m\u001b[0m\u001b[1;33m\u001b[0m\u001b[0m\n\u001b[0;32m   1915\u001b[0m     \u001b[1;32mfor\u001b[0m \u001b[1;33m(\u001b[0m\u001b[0m_can_consolidate\u001b[0m\u001b[1;33m,\u001b[0m \u001b[0mdtype\u001b[0m\u001b[1;33m)\u001b[0m\u001b[1;33m,\u001b[0m \u001b[0mgroup_blocks\u001b[0m \u001b[1;32min\u001b[0m \u001b[0mgrouper\u001b[0m\u001b[1;33m:\u001b[0m\u001b[1;33m\u001b[0m\u001b[1;33m\u001b[0m\u001b[0m\n\u001b[1;32m-> 1916\u001b[1;33m         merged_blocks = _merge_blocks(\n\u001b[0m\u001b[0;32m   1917\u001b[0m             \u001b[0mlist\u001b[0m\u001b[1;33m(\u001b[0m\u001b[0mgroup_blocks\u001b[0m\u001b[1;33m)\u001b[0m\u001b[1;33m,\u001b[0m \u001b[0mdtype\u001b[0m\u001b[1;33m=\u001b[0m\u001b[0mdtype\u001b[0m\u001b[1;33m,\u001b[0m \u001b[0mcan_consolidate\u001b[0m\u001b[1;33m=\u001b[0m\u001b[0m_can_consolidate\u001b[0m\u001b[1;33m\u001b[0m\u001b[1;33m\u001b[0m\u001b[0m\n\u001b[0;32m   1918\u001b[0m         )\n",
      "\u001b[1;32m~\\anaconda3\\lib\\site-packages\\pandas\\core\\internals\\managers.py\u001b[0m in \u001b[0;36m_merge_blocks\u001b[1;34m(blocks, dtype, can_consolidate)\u001b[0m\n\u001b[0;32m   1937\u001b[0m         \u001b[1;31m# combination of those slices is a slice, too.\u001b[0m\u001b[1;33m\u001b[0m\u001b[1;33m\u001b[0m\u001b[1;33m\u001b[0m\u001b[0m\n\u001b[0;32m   1938\u001b[0m         \u001b[0mnew_mgr_locs\u001b[0m \u001b[1;33m=\u001b[0m \u001b[0mnp\u001b[0m\u001b[1;33m.\u001b[0m\u001b[0mconcatenate\u001b[0m\u001b[1;33m(\u001b[0m\u001b[1;33m[\u001b[0m\u001b[0mb\u001b[0m\u001b[1;33m.\u001b[0m\u001b[0mmgr_locs\u001b[0m\u001b[1;33m.\u001b[0m\u001b[0mas_array\u001b[0m \u001b[1;32mfor\u001b[0m \u001b[0mb\u001b[0m \u001b[1;32min\u001b[0m \u001b[0mblocks\u001b[0m\u001b[1;33m]\u001b[0m\u001b[1;33m)\u001b[0m\u001b[1;33m\u001b[0m\u001b[1;33m\u001b[0m\u001b[0m\n\u001b[1;32m-> 1939\u001b[1;33m         \u001b[0mnew_values\u001b[0m \u001b[1;33m=\u001b[0m \u001b[0mnp\u001b[0m\u001b[1;33m.\u001b[0m\u001b[0mvstack\u001b[0m\u001b[1;33m(\u001b[0m\u001b[1;33m[\u001b[0m\u001b[0mb\u001b[0m\u001b[1;33m.\u001b[0m\u001b[0mvalues\u001b[0m \u001b[1;32mfor\u001b[0m \u001b[0mb\u001b[0m \u001b[1;32min\u001b[0m \u001b[0mblocks\u001b[0m\u001b[1;33m]\u001b[0m\u001b[1;33m)\u001b[0m\u001b[1;33m\u001b[0m\u001b[1;33m\u001b[0m\u001b[0m\n\u001b[0m\u001b[0;32m   1940\u001b[0m \u001b[1;33m\u001b[0m\u001b[0m\n\u001b[0;32m   1941\u001b[0m         \u001b[0margsort\u001b[0m \u001b[1;33m=\u001b[0m \u001b[0mnp\u001b[0m\u001b[1;33m.\u001b[0m\u001b[0margsort\u001b[0m\u001b[1;33m(\u001b[0m\u001b[0mnew_mgr_locs\u001b[0m\u001b[1;33m)\u001b[0m\u001b[1;33m\u001b[0m\u001b[1;33m\u001b[0m\u001b[0m\n",
      "\u001b[1;32m<__array_function__ internals>\u001b[0m in \u001b[0;36mvstack\u001b[1;34m(*args, **kwargs)\u001b[0m\n",
      "\u001b[1;32m~\\anaconda3\\lib\\site-packages\\numpy\\core\\shape_base.py\u001b[0m in \u001b[0;36mvstack\u001b[1;34m(tup)\u001b[0m\n\u001b[0;32m    281\u001b[0m     \u001b[1;32mif\u001b[0m \u001b[1;32mnot\u001b[0m \u001b[0misinstance\u001b[0m\u001b[1;33m(\u001b[0m\u001b[0marrs\u001b[0m\u001b[1;33m,\u001b[0m \u001b[0mlist\u001b[0m\u001b[1;33m)\u001b[0m\u001b[1;33m:\u001b[0m\u001b[1;33m\u001b[0m\u001b[1;33m\u001b[0m\u001b[0m\n\u001b[0;32m    282\u001b[0m         \u001b[0marrs\u001b[0m \u001b[1;33m=\u001b[0m \u001b[1;33m[\u001b[0m\u001b[0marrs\u001b[0m\u001b[1;33m]\u001b[0m\u001b[1;33m\u001b[0m\u001b[1;33m\u001b[0m\u001b[0m\n\u001b[1;32m--> 283\u001b[1;33m     \u001b[1;32mreturn\u001b[0m \u001b[0m_nx\u001b[0m\u001b[1;33m.\u001b[0m\u001b[0mconcatenate\u001b[0m\u001b[1;33m(\u001b[0m\u001b[0marrs\u001b[0m\u001b[1;33m,\u001b[0m \u001b[1;36m0\u001b[0m\u001b[1;33m)\u001b[0m\u001b[1;33m\u001b[0m\u001b[1;33m\u001b[0m\u001b[0m\n\u001b[0m\u001b[0;32m    284\u001b[0m \u001b[1;33m\u001b[0m\u001b[0m\n\u001b[0;32m    285\u001b[0m \u001b[1;33m\u001b[0m\u001b[0m\n",
      "\u001b[1;32m<__array_function__ internals>\u001b[0m in \u001b[0;36mconcatenate\u001b[1;34m(*args, **kwargs)\u001b[0m\n",
      "\u001b[1;31mMemoryError\u001b[0m: Unable to allocate 1.06 GiB for an array with shape (6, 23684596) and data type int64"
     ]
    }
   ],
   "source": [
    "df1=df_combined\n",
    "df1.head()\n",
    "df1.drop_duplicates(subset =\"text\",\n",
    "                     keep = False, inplace = True)"
   ]
  },
  {
   "cell_type": "code",
   "execution_count": null,
   "id": "bd96aee9",
   "metadata": {},
   "outputs": [],
   "source": [
    "df1.shape"
   ]
  },
  {
   "cell_type": "code",
   "execution_count": null,
   "id": "98bbe2c6",
   "metadata": {},
   "outputs": [],
   "source": [
    "df_en=df1[df1[\"language\"]==\"en\"]\n",
    "df_en.shape"
   ]
  },
  {
   "cell_type": "code",
   "execution_count": null,
   "id": "54b17cfc",
   "metadata": {},
   "outputs": [],
   "source": [
    "df_en.head()"
   ]
  },
  {
   "cell_type": "markdown",
   "id": "e7e5fc4d",
   "metadata": {},
   "source": [
    "# English Stopwords"
   ]
  },
  {
   "cell_type": "code",
   "execution_count": null,
   "id": "0d33ca61",
   "metadata": {},
   "outputs": [],
   "source": [
    "#stopwords set\n",
    "\n",
    "import nltk\n",
    "nltk.download('stopwords')\n",
    "stop_words=set(stopwords.words('english'))"
   ]
  },
  {
   "cell_type": "markdown",
   "id": "d65e9839",
   "metadata": {},
   "source": [
    " ## Processing the tweet text\n",
    "    \n",
    "    1. Casing\n",
    "    2.Noise Removal\n",
    "    3.Tokenization\n",
    "    4.Stopword removal\n",
    "    5.Text Normalization"
   ]
  },
  {
   "cell_type": "code",
   "execution_count": null,
   "id": "7ad24fc8",
   "metadata": {},
   "outputs": [],
   "source": [
    "nltk.download('wordnet')"
   ]
  },
  {
   "cell_type": "code",
   "execution_count": null,
   "id": "af3d53c6",
   "metadata": {},
   "outputs": [],
   "source": [
    "def preprocess(tweet):  #this function will transform the text of tweet\n",
    "    \n",
    "    tweet = tweet.lower()     #lowecase conversion\n",
    "    tweet= re.sub(r\"https\\S+|www\\s+|https\\S+\",\"\",tweet,flags=re.MULTILINE)     #urls removed\n",
    "    tweet=tweet.translate(str.maketrans(\" \",\" \",string.punctuation)) #punctuation removed\n",
    "    tweet=re.sub(r'\\@\\w+|\\#',\"\",tweet) #remove user @ references\n",
    "    tweet_tokens=word_tokenize(tweet) #remove stopwords\n",
    "    filtered_words= [word for word in tweet_tokens if word not in stop_words]\n",
    "    \n",
    "    #stemming\n",
    "    ps=PorterStemmer()\n",
    "    stemmed_words=[ps.stem(w) for w in filtered_words]\n",
    "    \n",
    "    #lemmatizing\n",
    "    lemmatizer= WordNetLemmatizer()\n",
    "    lemma_words=[lemmatizer.lemmatize(w,pos='a') for w in stemmed_words]\n",
    "    \n",
    "    return \" \".join(lemma_words)\n",
    "\n",
    "preprocess(\"It is lovely out there , and so sunny and funny\")"
   ]
  },
  {
   "cell_type": "code",
   "execution_count": null,
   "id": "a80040e6",
   "metadata": {},
   "outputs": [],
   "source": [
    "tweetlist=df_en[\"text\"].tolist()\n"
   ]
  },
  {
   "cell_type": "code",
   "execution_count": null,
   "id": "0aacfd98",
   "metadata": {},
   "outputs": [],
   "source": [
    "newtwl=[]"
   ]
  },
  {
   "cell_type": "code",
   "execution_count": null,
   "id": "bcd288a3",
   "metadata": {},
   "outputs": [],
   "source": [
    "for t in tweetlist:\n",
    "    t=preprocess(t)\n",
    "    newtwl.append(t)\n",
    "\n"
   ]
  },
  {
   "cell_type": "code",
   "execution_count": null,
   "id": "fd9655f2",
   "metadata": {},
   "outputs": [],
   "source": [
    "newtwl[0:5]"
   ]
  },
  {
   "cell_type": "code",
   "execution_count": null,
   "id": "27cd04a5",
   "metadata": {},
   "outputs": [],
   "source": [
    "df.head()\n"
   ]
  },
  {
   "cell_type": "code",
   "execution_count": null,
   "id": "dfade5f6",
   "metadata": {},
   "outputs": [],
   "source": [
    "df_en=df_en.drop('text',axis=1)\n"
   ]
  },
  {
   "cell_type": "code",
   "execution_count": null,
   "id": "3cbd735c",
   "metadata": {},
   "outputs": [],
   "source": [
    "df_en.head()"
   ]
  },
  {
   "cell_type": "code",
   "execution_count": null,
   "id": "c4a73c72",
   "metadata": {},
   "outputs": [],
   "source": [
    "df1"
   ]
  },
  {
   "cell_type": "code",
   "execution_count": null,
   "id": "67b48aa1",
   "metadata": {},
   "outputs": [],
   "source": [
    "df_en['text']=newtwl\n",
    "df_en.head()"
   ]
  },
  {
   "cell_type": "code",
   "execution_count": null,
   "id": "d7c2329c",
   "metadata": {},
   "outputs": [],
   "source": [
    "df_en.drop_duplicates(subset='text',inplace=True)"
   ]
  },
  {
   "cell_type": "code",
   "execution_count": null,
   "id": "9406022e",
   "metadata": {},
   "outputs": [],
   "source": [
    "df_en.shape"
   ]
  },
  {
   "cell_type": "code",
   "execution_count": null,
   "id": "58d86fd6",
   "metadata": {},
   "outputs": [],
   "source": [
    "import nltk.sentiment.vader as vd\n",
    "from nltk import download\n",
    "download('vader_lexicon')\n",
    "sia = vd.SentimentIntensityAnalyzer()"
   ]
  },
  {
   "cell_type": "code",
   "execution_count": null,
   "id": "8f1de1fc",
   "metadata": {},
   "outputs": [],
   "source": [
    "df_en['sentiment_score'] = df_en['text'].apply(lambda x: sum([ sia.polarity_scores(i)['compound'] for i in word_tokenize( ' '.join(x) )]) )"
   ]
  },
  {
   "cell_type": "code",
   "execution_count": null,
   "id": "fc180c33",
   "metadata": {},
   "outputs": [],
   "source": [
    "df1['sentiment_score'] "
   ]
  },
  {
   "cell_type": "code",
   "execution_count": null,
   "id": "6ba62b39",
   "metadata": {},
   "outputs": [],
   "source": []
  }
 ],
 "metadata": {
  "kernelspec": {
   "display_name": "Python 3 (ipykernel)",
   "language": "python",
   "name": "python3"
  },
  "language_info": {
   "codemirror_mode": {
    "name": "ipython",
    "version": 3
   },
   "file_extension": ".py",
   "mimetype": "text/x-python",
   "name": "python",
   "nbconvert_exporter": "python",
   "pygments_lexer": "ipython3",
   "version": "3.9.12"
  }
 },
 "nbformat": 4,
 "nbformat_minor": 5
}
