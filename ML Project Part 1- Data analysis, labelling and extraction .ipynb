{
 "cells": [
  {
   "cell_type": "code",
   "execution_count": 14,
   "metadata": {},
   "outputs": [],
   "source": [
    "#data manipulation libraries\n",
    "\n",
    "import pandas as pd\n",
    "#data manipulation libraries\n",
    "import csv\n",
    "import pandas as pd\n",
    "import numpy as np\n",
    "import re\n",
    "import string\n",
    "\n",
    "#methods and stopwords\n",
    "from nltk.corpus import stopwords\n",
    "from nltk.tokenize import word_tokenize\n",
    "from nltk.stem import PorterStemmer\n",
    "from nltk.stem import WordNetLemmatizer\n",
    "from nltk.corpus import stopwords\n",
    "from nltk.stem import PorterStemmer\n",
    "from nltk.tokenize import TweetTokenizer\n",
    "from sklearn.feature_extraction.text import TfidfVectorizer\n",
    "from sklearn.model_selection import train_test_split\n",
    "\n",
    "##Machine Learning Libraries\n",
    "from sklearn.metrics import accuracy_score\n",
    "from sklearn.naive_bayes import MultinomialNB\n",
    "from sklearn.linear_model import LogisticRegression\n",
    "from sklearn.svm import SVC\n",
    "\n",
    "import warnings\n",
    "warnings.filterwarnings (\"ignore\")\n",
    "import matplotlib.pyplot as plt\n",
    "import seaborn as sns"
   ]
  },
  {
   "cell_type": "code",
   "execution_count": 4,
   "metadata": {},
   "outputs": [],
   "source": [
    "filename=r\"D:\\Russia Ukraine war Dataset\\0401_UkraineCombinedTweetsDeduped.csv.gzip\" #import the file from local path\n",
    "df = pd.read_csv(filename, compression='gzip', index_col=0,encoding='utf-8', quoting=csv.QUOTE_ALL) #convert the file to dataframe"
   ]
  },
  {
   "cell_type": "code",
   "execution_count": 5,
   "metadata": {},
   "outputs": [
    {
     "data": {
      "text/html": [
       "<div>\n",
       "<style scoped>\n",
       "    .dataframe tbody tr th:only-of-type {\n",
       "        vertical-align: middle;\n",
       "    }\n",
       "\n",
       "    .dataframe tbody tr th {\n",
       "        vertical-align: top;\n",
       "    }\n",
       "\n",
       "    .dataframe thead th {\n",
       "        text-align: right;\n",
       "    }\n",
       "</style>\n",
       "<table border=\"1\" class=\"dataframe\">\n",
       "  <thead>\n",
       "    <tr style=\"text-align: right;\">\n",
       "      <th></th>\n",
       "      <th>userid</th>\n",
       "      <th>username</th>\n",
       "      <th>acctdesc</th>\n",
       "      <th>location</th>\n",
       "      <th>following</th>\n",
       "      <th>followers</th>\n",
       "      <th>totaltweets</th>\n",
       "      <th>usercreatedts</th>\n",
       "      <th>tweetid</th>\n",
       "      <th>tweetcreatedts</th>\n",
       "      <th>retweetcount</th>\n",
       "      <th>text</th>\n",
       "      <th>hashtags</th>\n",
       "      <th>language</th>\n",
       "      <th>coordinates</th>\n",
       "      <th>favorite_count</th>\n",
       "      <th>extractedts</th>\n",
       "    </tr>\n",
       "  </thead>\n",
       "  <tbody>\n",
       "    <tr>\n",
       "      <th>2</th>\n",
       "      <td>1235940869812809728</td>\n",
       "      <td>ThanapornThon17</td>\n",
       "      <td>เล่นไวโอลิน\\nพูดภาษาจีน</td>\n",
       "      <td>NaN</td>\n",
       "      <td>231</td>\n",
       "      <td>72</td>\n",
       "      <td>5481</td>\n",
       "      <td>2020-03-06 14:52:01.000000</td>\n",
       "      <td>1509681950683926556</td>\n",
       "      <td>2022-04-01 00:00:00.000000</td>\n",
       "      <td>9</td>\n",
       "      <td>America 🇺🇸 is preparing for something worse th...</td>\n",
       "      <td>[{'text': 'RussianUkrainianWar', 'indices': [7...</td>\n",
       "      <td>en</td>\n",
       "      <td>NaN</td>\n",
       "      <td>0</td>\n",
       "      <td>2022-04-01 00:09:37.125654</td>\n",
       "    </tr>\n",
       "    <tr>\n",
       "      <th>5</th>\n",
       "      <td>799652508771766274</td>\n",
       "      <td>Judson_Bennett</td>\n",
       "      <td>Coastal Network founder. Advocate, journalist,...</td>\n",
       "      <td>NaN</td>\n",
       "      <td>766</td>\n",
       "      <td>2024</td>\n",
       "      <td>4601</td>\n",
       "      <td>2016-11-18 16:36:29.000000</td>\n",
       "      <td>1509681952000937999</td>\n",
       "      <td>2022-04-01 00:00:00.000000</td>\n",
       "      <td>1</td>\n",
       "      <td>The Amazing story of Former Sussex County Dela...</td>\n",
       "      <td>[{'text': 'Russia', 'indices': [208, 215]}, {'...</td>\n",
       "      <td>en</td>\n",
       "      <td>NaN</td>\n",
       "      <td>0</td>\n",
       "      <td>2022-04-01 00:14:21.490394</td>\n",
       "    </tr>\n",
       "    <tr>\n",
       "      <th>9</th>\n",
       "      <td>1275475606684172290</td>\n",
       "      <td>medyanews_</td>\n",
       "      <td>Medya News offers news, stories, columns, rese...</td>\n",
       "      <td>Kurdistan, Worldwide</td>\n",
       "      <td>167</td>\n",
       "      <td>6102</td>\n",
       "      <td>6651</td>\n",
       "      <td>2020-06-23 17:07:56.000000</td>\n",
       "      <td>1509681953418711050</td>\n",
       "      <td>2022-04-01 00:00:00.000000</td>\n",
       "      <td>0</td>\n",
       "      <td>\"The image that Russia acquired over the past ...</td>\n",
       "      <td>[{'text': 'Putin', 'indices': [69, 75]}, {'tex...</td>\n",
       "      <td>en</td>\n",
       "      <td>NaN</td>\n",
       "      <td>0</td>\n",
       "      <td>2022-04-01 00:44:20.080995</td>\n",
       "    </tr>\n",
       "    <tr>\n",
       "      <th>11</th>\n",
       "      <td>1086730932667568128</td>\n",
       "      <td>QueerTestimony</td>\n",
       "      <td>Church Leader. BA- MBI\\nEarth Scientist. BS, M...</td>\n",
       "      <td>Ontario, Canada</td>\n",
       "      <td>470</td>\n",
       "      <td>261</td>\n",
       "      <td>7766</td>\n",
       "      <td>2019-01-19 21:03:39.000000</td>\n",
       "      <td>1509681953636700160</td>\n",
       "      <td>2022-04-01 00:00:00.000000</td>\n",
       "      <td>0</td>\n",
       "      <td>Sad to read of the #RussianArmy invading of #C...</td>\n",
       "      <td>[{'text': 'RussianArmy', 'indices': [19, 31]},...</td>\n",
       "      <td>en</td>\n",
       "      <td>NaN</td>\n",
       "      <td>0</td>\n",
       "      <td>2022-04-01 00:09:36.929425</td>\n",
       "    </tr>\n",
       "    <tr>\n",
       "      <th>12</th>\n",
       "      <td>615314107</td>\n",
       "      <td>alain_4u</td>\n",
       "      <td>#العين_الإخبارية.. موقع إخباري رقمي، يغطي أخبا...</td>\n",
       "      <td>أخبار العالم</td>\n",
       "      <td>8</td>\n",
       "      <td>784928</td>\n",
       "      <td>244813</td>\n",
       "      <td>2012-06-22 16:20:43.000000</td>\n",
       "      <td>1509681953947074560</td>\n",
       "      <td>2022-04-01 00:00:01.000000</td>\n",
       "      <td>0</td>\n",
       "      <td>الرئيس الروسي يصعد رده على العقوبات الغربية بع...</td>\n",
       "      <td>[{'text': 'عينك_على_العالم', 'indices': [58, 7...</td>\n",
       "      <td>ar</td>\n",
       "      <td>NaN</td>\n",
       "      <td>7</td>\n",
       "      <td>2022-04-01 00:09:36.905343</td>\n",
       "    </tr>\n",
       "  </tbody>\n",
       "</table>\n",
       "</div>"
      ],
      "text/plain": [
       "                 userid         username  \\\n",
       "2   1235940869812809728  ThanapornThon17   \n",
       "5    799652508771766274   Judson_Bennett   \n",
       "9   1275475606684172290       medyanews_   \n",
       "11  1086730932667568128   QueerTestimony   \n",
       "12            615314107         alain_4u   \n",
       "\n",
       "                                             acctdesc              location  \\\n",
       "2                             เล่นไวโอลิน\\nพูดภาษาจีน                   NaN   \n",
       "5   Coastal Network founder. Advocate, journalist,...                   NaN   \n",
       "9   Medya News offers news, stories, columns, rese...  Kurdistan, Worldwide   \n",
       "11  Church Leader. BA- MBI\\nEarth Scientist. BS, M...       Ontario, Canada   \n",
       "12  #العين_الإخبارية.. موقع إخباري رقمي، يغطي أخبا...          أخبار العالم   \n",
       "\n",
       "    following  followers  totaltweets               usercreatedts  \\\n",
       "2         231         72         5481  2020-03-06 14:52:01.000000   \n",
       "5         766       2024         4601  2016-11-18 16:36:29.000000   \n",
       "9         167       6102         6651  2020-06-23 17:07:56.000000   \n",
       "11        470        261         7766  2019-01-19 21:03:39.000000   \n",
       "12          8     784928       244813  2012-06-22 16:20:43.000000   \n",
       "\n",
       "                tweetid              tweetcreatedts  retweetcount  \\\n",
       "2   1509681950683926556  2022-04-01 00:00:00.000000             9   \n",
       "5   1509681952000937999  2022-04-01 00:00:00.000000             1   \n",
       "9   1509681953418711050  2022-04-01 00:00:00.000000             0   \n",
       "11  1509681953636700160  2022-04-01 00:00:00.000000             0   \n",
       "12  1509681953947074560  2022-04-01 00:00:01.000000             0   \n",
       "\n",
       "                                                 text  \\\n",
       "2   America 🇺🇸 is preparing for something worse th...   \n",
       "5   The Amazing story of Former Sussex County Dela...   \n",
       "9   \"The image that Russia acquired over the past ...   \n",
       "11  Sad to read of the #RussianArmy invading of #C...   \n",
       "12  الرئيس الروسي يصعد رده على العقوبات الغربية بع...   \n",
       "\n",
       "                                             hashtags language coordinates  \\\n",
       "2   [{'text': 'RussianUkrainianWar', 'indices': [7...       en         NaN   \n",
       "5   [{'text': 'Russia', 'indices': [208, 215]}, {'...       en         NaN   \n",
       "9   [{'text': 'Putin', 'indices': [69, 75]}, {'tex...       en         NaN   \n",
       "11  [{'text': 'RussianArmy', 'indices': [19, 31]},...       en         NaN   \n",
       "12  [{'text': 'عينك_على_العالم', 'indices': [58, 7...       ar         NaN   \n",
       "\n",
       "    favorite_count                 extractedts  \n",
       "2                0  2022-04-01 00:09:37.125654  \n",
       "5                0  2022-04-01 00:14:21.490394  \n",
       "9                0  2022-04-01 00:44:20.080995  \n",
       "11               0  2022-04-01 00:09:36.929425  \n",
       "12               7  2022-04-01 00:09:36.905343  "
      ]
     },
     "execution_count": 5,
     "metadata": {},
     "output_type": "execute_result"
    }
   ],
   "source": [
    "df.drop_duplicates(subset =\"text\",  \n",
    "                     keep = False, inplace = True) #dropping retweets from the tweet dataset. Most of the retweets are registered as duplicates of original\n",
    "\n",
    "df.head()"
   ]
  },
  {
   "cell_type": "code",
   "execution_count": 47,
   "metadata": {},
   "outputs": [
    {
     "name": "stdout",
     "output_type": "stream",
     "text": [
      "<class 'pandas.core.frame.DataFrame'>\n",
      "Int64Index: 75078 entries, 2 to 364874\n",
      "Data columns (total 17 columns):\n",
      " #   Column          Non-Null Count  Dtype \n",
      "---  ------          --------------  ----- \n",
      " 0   userid          75078 non-null  int64 \n",
      " 1   username        75078 non-null  object\n",
      " 2   acctdesc        64724 non-null  object\n",
      " 3   location        47605 non-null  object\n",
      " 4   following       75078 non-null  int64 \n",
      " 5   followers       75078 non-null  int64 \n",
      " 6   totaltweets     75078 non-null  int64 \n",
      " 7   usercreatedts   75078 non-null  object\n",
      " 8   tweetid         75078 non-null  int64 \n",
      " 9   tweetcreatedts  75078 non-null  object\n",
      " 10  retweetcount    75078 non-null  int64 \n",
      " 11  text            75078 non-null  object\n",
      " 12  hashtags        75078 non-null  object\n",
      " 13  language        75078 non-null  object\n",
      " 14  coordinates     86 non-null     object\n",
      " 15  favorite_count  75078 non-null  int64 \n",
      " 16  extractedts     75078 non-null  object\n",
      "dtypes: int64(7), object(10)\n",
      "memory usage: 10.3+ MB\n"
     ]
    }
   ],
   "source": [
    "df.info()"
   ]
  },
  {
   "cell_type": "code",
   "execution_count": 128,
   "metadata": {},
   "outputs": [
    {
     "name": "stdout",
     "output_type": "stream",
     "text": [
      "Number of unique languages in this DataFrame: 61 \n"
     ]
    },
    {
     "data": {
      "text/plain": [
       "array(['en', 'ar', 'es', 'tr', 'fr', 'no', 'uk', 'und', 'de', 'it', 'in',\n",
       "       'ja', 'zh', 'cs', 'eu', 'ru', 'et', 'sv', 'pt', 'ht', 'hi', 'da',\n",
       "       'or', 'sl', 'fa', 'bg', 'lv', 'nl', 'el', 'pl', 'iw', 'th', 'ca',\n",
       "       'lt', 'tl', 'ta', 'ro', 'hu', 'fi', 'ur', 'mr', 'sr', 'gu', 'ne',\n",
       "       'ml', 'vi', 'is', 'kn', 'ko', 'bn', 'ka', 'te', 'cy', 'pa', 'ckb',\n",
       "       'my', 'hy', 'am', 'ps', 'si', 'dv'], dtype=object)"
      ]
     },
     "execution_count": 128,
     "metadata": {},
     "output_type": "execute_result"
    }
   ],
   "source": [
    "print(f\"Number of unique languages in this DataFrame: {df['language'].nunique()} \")\n",
    "df[\"language\"].unique()"
   ]
  },
  {
   "cell_type": "code",
   "execution_count": 130,
   "metadata": {},
   "outputs": [
    {
     "name": "stdout",
     "output_type": "stream",
     "text": [
      "60.34% of English Tweets within dataset.\n"
     ]
    }
   ],
   "source": [
    "print(f\"{round(df.loc[df['language']=='en'].shape[0]/df.shape[0]*100, 2)}% of English Tweets within dataset.\")"
   ]
  },
  {
   "cell_type": "code",
   "execution_count": 6,
   "metadata": {},
   "outputs": [
    {
     "data": {
      "text/html": [
       "<div>\n",
       "<style scoped>\n",
       "    .dataframe tbody tr th:only-of-type {\n",
       "        vertical-align: middle;\n",
       "    }\n",
       "\n",
       "    .dataframe tbody tr th {\n",
       "        vertical-align: top;\n",
       "    }\n",
       "\n",
       "    .dataframe thead th {\n",
       "        text-align: right;\n",
       "    }\n",
       "</style>\n",
       "<table border=\"1\" class=\"dataframe\">\n",
       "  <thead>\n",
       "    <tr style=\"text-align: right;\">\n",
       "      <th></th>\n",
       "      <th>userid</th>\n",
       "      <th>username</th>\n",
       "      <th>acctdesc</th>\n",
       "      <th>location</th>\n",
       "      <th>following</th>\n",
       "      <th>followers</th>\n",
       "      <th>totaltweets</th>\n",
       "      <th>usercreatedts</th>\n",
       "      <th>tweetid</th>\n",
       "      <th>tweetcreatedts</th>\n",
       "      <th>retweetcount</th>\n",
       "      <th>text</th>\n",
       "      <th>hashtags</th>\n",
       "      <th>language</th>\n",
       "      <th>favorite_count</th>\n",
       "      <th>extractedts</th>\n",
       "    </tr>\n",
       "  </thead>\n",
       "  <tbody>\n",
       "    <tr>\n",
       "      <th>2</th>\n",
       "      <td>1235940869812809728</td>\n",
       "      <td>ThanapornThon17</td>\n",
       "      <td>เล่นไวโอลิน\\nพูดภาษาจีน</td>\n",
       "      <td>NaN</td>\n",
       "      <td>231</td>\n",
       "      <td>72</td>\n",
       "      <td>5481</td>\n",
       "      <td>2020-03-06 14:52:01.000000</td>\n",
       "      <td>1509681950683926556</td>\n",
       "      <td>2022-04-01 00:00:00.000000</td>\n",
       "      <td>9</td>\n",
       "      <td>America 🇺🇸 is preparing for something worse th...</td>\n",
       "      <td>[{'text': 'RussianUkrainianWar', 'indices': [7...</td>\n",
       "      <td>en</td>\n",
       "      <td>0</td>\n",
       "      <td>2022-04-01 00:09:37.125654</td>\n",
       "    </tr>\n",
       "    <tr>\n",
       "      <th>5</th>\n",
       "      <td>799652508771766274</td>\n",
       "      <td>Judson_Bennett</td>\n",
       "      <td>Coastal Network founder. Advocate, journalist,...</td>\n",
       "      <td>NaN</td>\n",
       "      <td>766</td>\n",
       "      <td>2024</td>\n",
       "      <td>4601</td>\n",
       "      <td>2016-11-18 16:36:29.000000</td>\n",
       "      <td>1509681952000937999</td>\n",
       "      <td>2022-04-01 00:00:00.000000</td>\n",
       "      <td>1</td>\n",
       "      <td>The Amazing story of Former Sussex County Dela...</td>\n",
       "      <td>[{'text': 'Russia', 'indices': [208, 215]}, {'...</td>\n",
       "      <td>en</td>\n",
       "      <td>0</td>\n",
       "      <td>2022-04-01 00:14:21.490394</td>\n",
       "    </tr>\n",
       "    <tr>\n",
       "      <th>9</th>\n",
       "      <td>1275475606684172290</td>\n",
       "      <td>medyanews_</td>\n",
       "      <td>Medya News offers news, stories, columns, rese...</td>\n",
       "      <td>Kurdistan, Worldwide</td>\n",
       "      <td>167</td>\n",
       "      <td>6102</td>\n",
       "      <td>6651</td>\n",
       "      <td>2020-06-23 17:07:56.000000</td>\n",
       "      <td>1509681953418711050</td>\n",
       "      <td>2022-04-01 00:00:00.000000</td>\n",
       "      <td>0</td>\n",
       "      <td>\"The image that Russia acquired over the past ...</td>\n",
       "      <td>[{'text': 'Putin', 'indices': [69, 75]}, {'tex...</td>\n",
       "      <td>en</td>\n",
       "      <td>0</td>\n",
       "      <td>2022-04-01 00:44:20.080995</td>\n",
       "    </tr>\n",
       "    <tr>\n",
       "      <th>11</th>\n",
       "      <td>1086730932667568128</td>\n",
       "      <td>QueerTestimony</td>\n",
       "      <td>Church Leader. BA- MBI\\nEarth Scientist. BS, M...</td>\n",
       "      <td>Ontario, Canada</td>\n",
       "      <td>470</td>\n",
       "      <td>261</td>\n",
       "      <td>7766</td>\n",
       "      <td>2019-01-19 21:03:39.000000</td>\n",
       "      <td>1509681953636700160</td>\n",
       "      <td>2022-04-01 00:00:00.000000</td>\n",
       "      <td>0</td>\n",
       "      <td>Sad to read of the #RussianArmy invading of #C...</td>\n",
       "      <td>[{'text': 'RussianArmy', 'indices': [19, 31]},...</td>\n",
       "      <td>en</td>\n",
       "      <td>0</td>\n",
       "      <td>2022-04-01 00:09:36.929425</td>\n",
       "    </tr>\n",
       "    <tr>\n",
       "      <th>12</th>\n",
       "      <td>615314107</td>\n",
       "      <td>alain_4u</td>\n",
       "      <td>#العين_الإخبارية.. موقع إخباري رقمي، يغطي أخبا...</td>\n",
       "      <td>أخبار العالم</td>\n",
       "      <td>8</td>\n",
       "      <td>784928</td>\n",
       "      <td>244813</td>\n",
       "      <td>2012-06-22 16:20:43.000000</td>\n",
       "      <td>1509681953947074560</td>\n",
       "      <td>2022-04-01 00:00:01.000000</td>\n",
       "      <td>0</td>\n",
       "      <td>الرئيس الروسي يصعد رده على العقوبات الغربية بع...</td>\n",
       "      <td>[{'text': 'عينك_على_العالم', 'indices': [58, 7...</td>\n",
       "      <td>ar</td>\n",
       "      <td>7</td>\n",
       "      <td>2022-04-01 00:09:36.905343</td>\n",
       "    </tr>\n",
       "  </tbody>\n",
       "</table>\n",
       "</div>"
      ],
      "text/plain": [
       "                 userid         username  \\\n",
       "2   1235940869812809728  ThanapornThon17   \n",
       "5    799652508771766274   Judson_Bennett   \n",
       "9   1275475606684172290       medyanews_   \n",
       "11  1086730932667568128   QueerTestimony   \n",
       "12            615314107         alain_4u   \n",
       "\n",
       "                                             acctdesc              location  \\\n",
       "2                             เล่นไวโอลิน\\nพูดภาษาจีน                   NaN   \n",
       "5   Coastal Network founder. Advocate, journalist,...                   NaN   \n",
       "9   Medya News offers news, stories, columns, rese...  Kurdistan, Worldwide   \n",
       "11  Church Leader. BA- MBI\\nEarth Scientist. BS, M...       Ontario, Canada   \n",
       "12  #العين_الإخبارية.. موقع إخباري رقمي، يغطي أخبا...          أخبار العالم   \n",
       "\n",
       "    following  followers  totaltweets               usercreatedts  \\\n",
       "2         231         72         5481  2020-03-06 14:52:01.000000   \n",
       "5         766       2024         4601  2016-11-18 16:36:29.000000   \n",
       "9         167       6102         6651  2020-06-23 17:07:56.000000   \n",
       "11        470        261         7766  2019-01-19 21:03:39.000000   \n",
       "12          8     784928       244813  2012-06-22 16:20:43.000000   \n",
       "\n",
       "                tweetid              tweetcreatedts  retweetcount  \\\n",
       "2   1509681950683926556  2022-04-01 00:00:00.000000             9   \n",
       "5   1509681952000937999  2022-04-01 00:00:00.000000             1   \n",
       "9   1509681953418711050  2022-04-01 00:00:00.000000             0   \n",
       "11  1509681953636700160  2022-04-01 00:00:00.000000             0   \n",
       "12  1509681953947074560  2022-04-01 00:00:01.000000             0   \n",
       "\n",
       "                                                 text  \\\n",
       "2   America 🇺🇸 is preparing for something worse th...   \n",
       "5   The Amazing story of Former Sussex County Dela...   \n",
       "9   \"The image that Russia acquired over the past ...   \n",
       "11  Sad to read of the #RussianArmy invading of #C...   \n",
       "12  الرئيس الروسي يصعد رده على العقوبات الغربية بع...   \n",
       "\n",
       "                                             hashtags language  \\\n",
       "2   [{'text': 'RussianUkrainianWar', 'indices': [7...       en   \n",
       "5   [{'text': 'Russia', 'indices': [208, 215]}, {'...       en   \n",
       "9   [{'text': 'Putin', 'indices': [69, 75]}, {'tex...       en   \n",
       "11  [{'text': 'RussianArmy', 'indices': [19, 31]},...       en   \n",
       "12  [{'text': 'عينك_على_العالم', 'indices': [58, 7...       ar   \n",
       "\n",
       "    favorite_count                 extractedts  \n",
       "2                0  2022-04-01 00:09:37.125654  \n",
       "5                0  2022-04-01 00:14:21.490394  \n",
       "9                0  2022-04-01 00:44:20.080995  \n",
       "11               0  2022-04-01 00:09:36.929425  \n",
       "12               7  2022-04-01 00:09:36.905343  "
      ]
     },
     "execution_count": 6,
     "metadata": {},
     "output_type": "execute_result"
    }
   ],
   "source": [
    "df.drop([\"coordinates\"],axis=1,inplace=True) #dropping the column name cor-ordinates\n",
    "df.head()"
   ]
  },
  {
   "cell_type": "code",
   "execution_count": 6,
   "metadata": {},
   "outputs": [
    {
     "data": {
      "text/plain": [
       "(75078, 17)"
      ]
     },
     "execution_count": 6,
     "metadata": {},
     "output_type": "execute_result"
    }
   ],
   "source": [
    "df.shape #check the shape of the data"
   ]
  },
  {
   "cell_type": "code",
   "execution_count": 8,
   "metadata": {},
   "outputs": [
    {
     "data": {
      "text/html": [
       "<div>\n",
       "<style scoped>\n",
       "    .dataframe tbody tr th:only-of-type {\n",
       "        vertical-align: middle;\n",
       "    }\n",
       "\n",
       "    .dataframe tbody tr th {\n",
       "        vertical-align: top;\n",
       "    }\n",
       "\n",
       "    .dataframe thead th {\n",
       "        text-align: right;\n",
       "    }\n",
       "</style>\n",
       "<table border=\"1\" class=\"dataframe\">\n",
       "  <thead>\n",
       "    <tr style=\"text-align: right;\">\n",
       "      <th></th>\n",
       "      <th>userid</th>\n",
       "      <th>username</th>\n",
       "      <th>acctdesc</th>\n",
       "      <th>location</th>\n",
       "      <th>following</th>\n",
       "      <th>followers</th>\n",
       "      <th>totaltweets</th>\n",
       "      <th>usercreatedts</th>\n",
       "      <th>tweetid</th>\n",
       "      <th>tweetcreatedts</th>\n",
       "      <th>retweetcount</th>\n",
       "      <th>text</th>\n",
       "      <th>hashtags</th>\n",
       "      <th>language</th>\n",
       "      <th>coordinates</th>\n",
       "      <th>favorite_count</th>\n",
       "      <th>extractedts</th>\n",
       "    </tr>\n",
       "  </thead>\n",
       "  <tbody>\n",
       "    <tr>\n",
       "      <th>9</th>\n",
       "      <td>1275475606684172290</td>\n",
       "      <td>medyanews_</td>\n",
       "      <td>Medya News offers news, stories, columns, rese...</td>\n",
       "      <td>Kurdistan, Worldwide</td>\n",
       "      <td>167</td>\n",
       "      <td>6102</td>\n",
       "      <td>6651</td>\n",
       "      <td>2020-06-23 17:07:56.000000</td>\n",
       "      <td>1509681953418711050</td>\n",
       "      <td>2022-04-01 00:00:00.000000</td>\n",
       "      <td>0</td>\n",
       "      <td>\"The image that Russia acquired over the past ...</td>\n",
       "      <td>[{'text': 'Putin', 'indices': [69, 75]}, {'tex...</td>\n",
       "      <td>en</td>\n",
       "      <td>NaN</td>\n",
       "      <td>0</td>\n",
       "      <td>2022-04-01 00:44:20.080995</td>\n",
       "    </tr>\n",
       "    <tr>\n",
       "      <th>11</th>\n",
       "      <td>1086730932667568128</td>\n",
       "      <td>QueerTestimony</td>\n",
       "      <td>Church Leader. BA- MBI\\nEarth Scientist. BS, M...</td>\n",
       "      <td>Ontario, Canada</td>\n",
       "      <td>470</td>\n",
       "      <td>261</td>\n",
       "      <td>7766</td>\n",
       "      <td>2019-01-19 21:03:39.000000</td>\n",
       "      <td>1509681953636700160</td>\n",
       "      <td>2022-04-01 00:00:00.000000</td>\n",
       "      <td>0</td>\n",
       "      <td>Sad to read of the #RussianArmy invading of #C...</td>\n",
       "      <td>[{'text': 'RussianArmy', 'indices': [19, 31]},...</td>\n",
       "      <td>en</td>\n",
       "      <td>NaN</td>\n",
       "      <td>0</td>\n",
       "      <td>2022-04-01 00:09:36.929425</td>\n",
       "    </tr>\n",
       "    <tr>\n",
       "      <th>12</th>\n",
       "      <td>615314107</td>\n",
       "      <td>alain_4u</td>\n",
       "      <td>#العين_الإخبارية.. موقع إخباري رقمي، يغطي أخبا...</td>\n",
       "      <td>أخبار العالم</td>\n",
       "      <td>8</td>\n",
       "      <td>784928</td>\n",
       "      <td>244813</td>\n",
       "      <td>2012-06-22 16:20:43.000000</td>\n",
       "      <td>1509681953947074560</td>\n",
       "      <td>2022-04-01 00:00:01.000000</td>\n",
       "      <td>0</td>\n",
       "      <td>الرئيس الروسي يصعد رده على العقوبات الغربية بع...</td>\n",
       "      <td>[{'text': 'عينك_على_العالم', 'indices': [58, 7...</td>\n",
       "      <td>ar</td>\n",
       "      <td>NaN</td>\n",
       "      <td>7</td>\n",
       "      <td>2022-04-01 00:09:36.905343</td>\n",
       "    </tr>\n",
       "    <tr>\n",
       "      <th>15</th>\n",
       "      <td>137510751</td>\n",
       "      <td>MeganoticiasTOR</td>\n",
       "      <td>Noticiero Local transmitido desde Torreón de l...</td>\n",
       "      <td>Meganoticias Torreón</td>\n",
       "      <td>2787</td>\n",
       "      <td>8595</td>\n",
       "      <td>77267</td>\n",
       "      <td>2010-04-26 23:46:21.000000</td>\n",
       "      <td>1509681955519938561</td>\n",
       "      <td>2022-04-01 00:00:01.000000</td>\n",
       "      <td>0</td>\n",
       "      <td>#Internacional 🇷🇺🚀🇺🇦 A pesar de haber anunciad...</td>\n",
       "      <td>[{'text': 'Internacional', 'indices': [0, 14]}...</td>\n",
       "      <td>es</td>\n",
       "      <td>NaN</td>\n",
       "      <td>0</td>\n",
       "      <td>2022-04-01 00:14:21.448856</td>\n",
       "    </tr>\n",
       "    <tr>\n",
       "      <th>18</th>\n",
       "      <td>731172164146221056</td>\n",
       "      <td>K24Turkce</td>\n",
       "      <td>Kurdistan24 TV Türkçe Servisi Resmi Twitter He...</td>\n",
       "      <td>Erbil, Kurdistan</td>\n",
       "      <td>5</td>\n",
       "      <td>84002</td>\n",
       "      <td>101749</td>\n",
       "      <td>2016-05-13 17:20:03.000000</td>\n",
       "      <td>1509681956224602150</td>\n",
       "      <td>2022-04-01 00:00:01.000000</td>\n",
       "      <td>0</td>\n",
       "      <td>#Putin: Rubleyle ödeme yapılmazsa Rus gazı söz...</td>\n",
       "      <td>[{'text': 'Putin', 'indices': [0, 6]}]</td>\n",
       "      <td>tr</td>\n",
       "      <td>NaN</td>\n",
       "      <td>3</td>\n",
       "      <td>2022-04-01 00:44:20.047371</td>\n",
       "    </tr>\n",
       "  </tbody>\n",
       "</table>\n",
       "</div>"
      ],
      "text/plain": [
       "                 userid         username  \\\n",
       "9   1275475606684172290       medyanews_   \n",
       "11  1086730932667568128   QueerTestimony   \n",
       "12            615314107         alain_4u   \n",
       "15            137510751  MeganoticiasTOR   \n",
       "18   731172164146221056        K24Turkce   \n",
       "\n",
       "                                             acctdesc              location  \\\n",
       "9   Medya News offers news, stories, columns, rese...  Kurdistan, Worldwide   \n",
       "11  Church Leader. BA- MBI\\nEarth Scientist. BS, M...       Ontario, Canada   \n",
       "12  #العين_الإخبارية.. موقع إخباري رقمي، يغطي أخبا...          أخبار العالم   \n",
       "15  Noticiero Local transmitido desde Torreón de l...  Meganoticias Torreón   \n",
       "18  Kurdistan24 TV Türkçe Servisi Resmi Twitter He...      Erbil, Kurdistan   \n",
       "\n",
       "    following  followers  totaltweets               usercreatedts  \\\n",
       "9         167       6102         6651  2020-06-23 17:07:56.000000   \n",
       "11        470        261         7766  2019-01-19 21:03:39.000000   \n",
       "12          8     784928       244813  2012-06-22 16:20:43.000000   \n",
       "15       2787       8595        77267  2010-04-26 23:46:21.000000   \n",
       "18          5      84002       101749  2016-05-13 17:20:03.000000   \n",
       "\n",
       "                tweetid              tweetcreatedts  retweetcount  \\\n",
       "9   1509681953418711050  2022-04-01 00:00:00.000000             0   \n",
       "11  1509681953636700160  2022-04-01 00:00:00.000000             0   \n",
       "12  1509681953947074560  2022-04-01 00:00:01.000000             0   \n",
       "15  1509681955519938561  2022-04-01 00:00:01.000000             0   \n",
       "18  1509681956224602150  2022-04-01 00:00:01.000000             0   \n",
       "\n",
       "                                                 text  \\\n",
       "9   \"The image that Russia acquired over the past ...   \n",
       "11  Sad to read of the #RussianArmy invading of #C...   \n",
       "12  الرئيس الروسي يصعد رده على العقوبات الغربية بع...   \n",
       "15  #Internacional 🇷🇺🚀🇺🇦 A pesar de haber anunciad...   \n",
       "18  #Putin: Rubleyle ödeme yapılmazsa Rus gazı söz...   \n",
       "\n",
       "                                             hashtags language coordinates  \\\n",
       "9   [{'text': 'Putin', 'indices': [69, 75]}, {'tex...       en         NaN   \n",
       "11  [{'text': 'RussianArmy', 'indices': [19, 31]},...       en         NaN   \n",
       "12  [{'text': 'عينك_على_العالم', 'indices': [58, 7...       ar         NaN   \n",
       "15  [{'text': 'Internacional', 'indices': [0, 14]}...       es         NaN   \n",
       "18             [{'text': 'Putin', 'indices': [0, 6]}]       tr         NaN   \n",
       "\n",
       "    favorite_count                 extractedts  \n",
       "9                0  2022-04-01 00:44:20.080995  \n",
       "11               0  2022-04-01 00:09:36.929425  \n",
       "12               7  2022-04-01 00:09:36.905343  \n",
       "15               0  2022-04-01 00:14:21.448856  \n",
       "18               3  2022-04-01 00:44:20.047371  "
      ]
     },
     "execution_count": 8,
     "metadata": {},
     "output_type": "execute_result"
    }
   ],
   "source": [
    "newdf = df.dropna(subset=['location']) #create a new dataframe and drop null values\n",
    "newdf.head()"
   ]
  },
  {
   "cell_type": "code",
   "execution_count": 13,
   "metadata": {},
   "outputs": [
    {
     "data": {
      "text/plain": [
       "(44687, 16)"
      ]
     },
     "execution_count": 13,
     "metadata": {},
     "output_type": "execute_result"
    }
   ],
   "source": [
    "newdf.shape #check the shape of dataframe without null values"
   ]
  },
  {
   "cell_type": "code",
   "execution_count": 15,
   "metadata": {},
   "outputs": [
    {
     "data": {
      "text/plain": [
       "(27743, 16)"
      ]
     },
     "execution_count": 15,
     "metadata": {},
     "output_type": "execute_result"
    }
   ],
   "source": [
    "df_en=newdf[newdf[\"language\"]==\"en\"] #create a new dataframe df_en and fill it with rows containing English Tweets\n",
    "df_en.shape"
   ]
  },
  {
   "cell_type": "code",
   "execution_count": 9,
   "metadata": {},
   "outputs": [
    {
     "data": {
      "text/plain": [
       "en     29320\n",
       "und     4524\n",
       "de      2953\n",
       "fr      2000\n",
       "it      1811\n",
       "es      1491\n",
       "ja       605\n",
       "ru       559\n",
       "uk       496\n",
       "hi       475\n",
       "pl       415\n",
       "tr       407\n",
       "pt       348\n",
       "nl       317\n",
       "ar       181\n",
       "fi       162\n",
       "in       136\n",
       "ta       127\n",
       "el       119\n",
       "zh       116\n",
       "ca        95\n",
       "ro        74\n",
       "cs        70\n",
       "bn        68\n",
       "mr        61\n",
       "sv        60\n",
       "da        56\n",
       "et        56\n",
       "th        45\n",
       "ur        40\n",
       "fa        36\n",
       "gu        34\n",
       "te        34\n",
       "ml        30\n",
       "kn        28\n",
       "no        25\n",
       "vi        24\n",
       "lt        21\n",
       "tl        19\n",
       "ht        18\n",
       "or        18\n",
       "hu        18\n",
       "lv        15\n",
       "sl        13\n",
       "ko        11\n",
       "cy        11\n",
       "bg        10\n",
       "iw         9\n",
       "sr         8\n",
       "pa         6\n",
       "ckb        6\n",
       "ne         5\n",
       "eu         5\n",
       "ka         4\n",
       "ps         3\n",
       "my         2\n",
       "hy         2\n",
       "am         1\n",
       "si         1\n",
       "dv         1\n",
       "Name: language, dtype: int64"
      ]
     },
     "execution_count": 9,
     "metadata": {},
     "output_type": "execute_result"
    }
   ],
   "source": [
    "newdf.language.value_counts() #number of tweets by language"
   ]
  },
  {
   "cell_type": "code",
   "execution_count": 131,
   "metadata": {},
   "outputs": [
    {
     "data": {
      "image/png": "[encoded data removed]",
      "text/plain": [
       "<Figure size 432x288 with 1 Axes>"
      ]
     },
     "metadata": {
      "needs_background": "light"
     },
     "output_type": "display_data"
    }
   ],
   "source": [
    "sns.barplot(x = df.language.value_counts()[:10].index, y = df.language.value_counts()[:10]) #plotting the number of tweets by language\n",
    "plt.title('Tweets by Language')\n",
    "plt.xlabel('Language')\n",
    "plt.ylabel('Number of Tweets')\n",
    "sns.despine()\n"
   ]
  },
  {
   "cell_type": "code",
   "execution_count": 64,
   "metadata": {},
   "outputs": [
    {
     "data": {
      "text/plain": [
       "Ukraine            1418\n",
       "United States       679\n",
       "India               590\n",
       "London, England     437\n",
       "USA                 415\n",
       "Earth               327\n",
       "Украина             318\n",
       "London              313\n",
       "Yes                 313\n",
       "France              297\n",
       "Name: location, dtype: int64"
      ]
     },
     "execution_count": 64,
     "metadata": {},
     "output_type": "execute_result"
    }
   ],
   "source": [
    "newdf['location'].value_counts()[:10] #top 10 tweeting countries"
   ]
  },
  {
   "cell_type": "code",
   "execution_count": 69,
   "metadata": {},
   "outputs": [
    {
     "data": {
      "image/png": "[encoded data removed]",
      "text/plain": [
       "<Figure size 432x288 with 1 Axes>"
      ]
     },
     "metadata": {
      "needs_background": "light"
     },
     "output_type": "display_data"
    }
   ],
   "source": [
    "sns.barplot(x = newdf.location.value_counts()[:10].index, y = newdf.location.value_counts()[:10]) #creating a barplot of tweets by user's location\n",
    "plt.title('Tweets by location')\n",
    "plt.xlabel('Location')\n",
    "plt.ylabel('Number of Tweets')\n",
    "sns.despine()\n"
   ]
  },
  {
   "cell_type": "code",
   "execution_count": 72,
   "metadata": {},
   "outputs": [
    {
     "data": {
      "text/plain": [
       "(29320, 16)"
      ]
     },
     "execution_count": 72,
     "metadata": {},
     "output_type": "execute_result"
    }
   ],
   "source": [
    "df_en=newdf[newdf[\"language\"]==\"en\"].drop('language', axis=1) #create a new dataframe df_en and fill it with rows containing English Tweets\n",
    "df_en.shape"
   ]
  },
  {
   "cell_type": "code",
   "execution_count": 73,
   "metadata": {},
   "outputs": [],
   "source": [
    "sort_tweets = df_en[['username', 'text', 'favorite_count', 'tweetid', ]].sort_values(by = 'favorite_count', ascending = False) #creating a new dataframe and sorting the values by favorite count"
   ]
  },
  {
   "cell_type": "code",
   "execution_count": 74,
   "metadata": {},
   "outputs": [
    {
     "name": "stdout",
     "output_type": "stream",
     "text": [
      "#Ukrainian forces will likely conduct further offensive operations to drive #Russian forces to the #Belarusian border in the coming days.\n",
      "https://t.co/KV3jRyx7Ue\n"
     ]
    }
   ],
   "source": [
    "favorite_retweeted = sort_tweets.iloc[0]\n",
    "print(favorite_retweeted.text)"
   ]
  },
  {
   "cell_type": "code",
   "execution_count": 75,
   "metadata": {},
   "outputs": [
    {
     "data": {
      "text/plain": [
       "'hello'"
      ]
     },
     "execution_count": 75,
     "metadata": {},
     "output_type": "execute_result"
    }
   ],
   "source": [
    "def preprocess(tweet):\n",
    "    stemmer = PorterStemmer()\n",
    "    stopwords_english = stopwords.words('english')\n",
    "\n",
    "  # remove the stock market tickers like $GE\n",
    "    tweet = re.sub(r'\\$\\w*', '', tweet)\n",
    "\n",
    "  # remove the old style retweet text RT\n",
    "    tweet = re.sub(r'^RT[\\s]+', '', tweet)\n",
    "\n",
    "  # remove the hyperlinks \n",
    "    tweet = re.sub(r'https?:\\/\\/.*[\\r\\n]*', '', tweet)\n",
    "\n",
    "  # removing # symbol\n",
    "    tweet = re.sub(r'#', '', tweet)\n",
    "\n",
    "    tokenizer = TweetTokenizer(preserve_case=False, reduce_len=True, strip_handles=True)\n",
    "    tweet_tokens = tokenizer.tokenize(tweet) #splits the sentences into words and then store them as tokens\n",
    "\n",
    "    tweets_clean = [] \n",
    "\n",
    "    for word in tweet_tokens:\n",
    "        if (word not in stopwords_english and word not in string.punctuation):\n",
    "            stem_word = stemmer.stem(word)  # Stemming removes prefixes and suffixes.\n",
    "            tweets_clean.append(stem_word) #insert the stem_wods to tweets clean list\n",
    "  \n",
    "    return \" \".join(tweets_clean) #return a sentence by joining words present in the tweets_clean list\n",
    "\n",
    "preprocess(\"Hello, how are you\")\n"
   ]
  },
  {
   "cell_type": "code",
   "execution_count": 76,
   "metadata": {},
   "outputs": [],
   "source": [
    "tweetlist=df_en[\"text\"].tolist() #extract text column containing tweets to a new list\n",
    "newtwl=[] #create a blank list\n",
    "for t in tweetlist:\n",
    "    t=preprocess(t)\n",
    "    newtwl.append(t)  # does tweet processing and then sends the processed text to the new list.\n"
   ]
  },
  {
   "cell_type": "code",
   "execution_count": 77,
   "metadata": {},
   "outputs": [
    {
     "data": {
      "text/html": [
       "<div>\n",
       "<style scoped>\n",
       "    .dataframe tbody tr th:only-of-type {\n",
       "        vertical-align: middle;\n",
       "    }\n",
       "\n",
       "    .dataframe tbody tr th {\n",
       "        vertical-align: top;\n",
       "    }\n",
       "\n",
       "    .dataframe thead th {\n",
       "        text-align: right;\n",
       "    }\n",
       "</style>\n",
       "<table border=\"1\" class=\"dataframe\">\n",
       "  <thead>\n",
       "    <tr style=\"text-align: right;\">\n",
       "      <th></th>\n",
       "      <th>txt</th>\n",
       "    </tr>\n",
       "  </thead>\n",
       "  <tbody>\n",
       "    <tr>\n",
       "      <th>0</th>\n",
       "      <td>imag russia acquir past two decad putin-medved...</td>\n",
       "    </tr>\n",
       "    <tr>\n",
       "      <th>1</th>\n",
       "      <td>sad read russianarmi invad chernobyl without t...</td>\n",
       "    </tr>\n",
       "    <tr>\n",
       "      <th>2</th>\n",
       "      <td>read .\\n.\\n.\\n.\\n. peac ukrain democraci war p...</td>\n",
       "    </tr>\n",
       "    <tr>\n",
       "      <th>3</th>\n",
       "      <td>🇷 🇺 💢 🇺 🇦 🛢 ️ ⛽ ️ 💶 putin say foreign buyer mu...</td>\n",
       "    </tr>\n",
       "    <tr>\n",
       "      <th>4</th>\n",
       "      <td>jaim antoin discuss initi reaction ukrain cris...</td>\n",
       "    </tr>\n",
       "  </tbody>\n",
       "</table>\n",
       "</div>"
      ],
      "text/plain": [
       "                                                 txt\n",
       "0  imag russia acquir past two decad putin-medved...\n",
       "1  sad read russianarmi invad chernobyl without t...\n",
       "2  read .\\n.\\n.\\n.\\n. peac ukrain democraci war p...\n",
       "3  🇷 🇺 💢 🇺 🇦 🛢 ️ ⛽ ️ 💶 putin say foreign buyer mu...\n",
       "4  jaim antoin discuss initi reaction ukrain cris..."
      ]
     },
     "execution_count": 77,
     "metadata": {},
     "output_type": "execute_result"
    }
   ],
   "source": [
    "df1=pd.DataFrame(newtwl,columns=['txt']) #initialize new dataframe and add the list containing processed text\n",
    "df1.head()"
   ]
  },
  {
   "cell_type": "code",
   "execution_count": 78,
   "metadata": {},
   "outputs": [],
   "source": [
    "df_en['processed_text']=df1['txt'].values #create a new column in existing dataframe df_en, copy the values from text column from new dataframe df1"
   ]
  },
  {
   "cell_type": "code",
   "execution_count": 79,
   "metadata": {},
   "outputs": [
    {
     "name": "stderr",
     "output_type": "stream",
     "text": [
      "[nltk_data] Downloading package vader_lexicon to\n",
      "[nltk_data]     C:\\Users\\hchas\\AppData\\Roaming\\nltk_data...\n",
      "[nltk_data]   Package vader_lexicon is already up-to-date!\n"
     ]
    }
   ],
   "source": [
    "import nltk.sentiment.vader as vd #import vader sentiment analyser to label the tweets with sentiments.\n",
    "from nltk import download\n",
    "download('vader_lexicon')  \n",
    "sia = vd.SentimentIntensityAnalyzer()"
   ]
  },
  {
   "cell_type": "code",
   "execution_count": 80,
   "metadata": {},
   "outputs": [
    {
     "data": {
      "text/html": [
       "<div>\n",
       "<style scoped>\n",
       "    .dataframe tbody tr th:only-of-type {\n",
       "        vertical-align: middle;\n",
       "    }\n",
       "\n",
       "    .dataframe tbody tr th {\n",
       "        vertical-align: top;\n",
       "    }\n",
       "\n",
       "    .dataframe thead th {\n",
       "        text-align: right;\n",
       "    }\n",
       "</style>\n",
       "<table border=\"1\" class=\"dataframe\">\n",
       "  <thead>\n",
       "    <tr style=\"text-align: right;\">\n",
       "      <th></th>\n",
       "      <th>userid</th>\n",
       "      <th>username</th>\n",
       "      <th>acctdesc</th>\n",
       "      <th>location</th>\n",
       "      <th>following</th>\n",
       "      <th>followers</th>\n",
       "      <th>totaltweets</th>\n",
       "      <th>usercreatedts</th>\n",
       "      <th>tweetid</th>\n",
       "      <th>tweetcreatedts</th>\n",
       "      <th>retweetcount</th>\n",
       "      <th>text</th>\n",
       "      <th>hashtags</th>\n",
       "      <th>coordinates</th>\n",
       "      <th>favorite_count</th>\n",
       "      <th>extractedts</th>\n",
       "      <th>processed_text</th>\n",
       "      <th>scores</th>\n",
       "    </tr>\n",
       "  </thead>\n",
       "  <tbody>\n",
       "    <tr>\n",
       "      <th>9</th>\n",
       "      <td>1275475606684172290</td>\n",
       "      <td>medyanews_</td>\n",
       "      <td>Medya News offers news, stories, columns, rese...</td>\n",
       "      <td>Kurdistan, Worldwide</td>\n",
       "      <td>167</td>\n",
       "      <td>6102</td>\n",
       "      <td>6651</td>\n",
       "      <td>2020-06-23 17:07:56.000000</td>\n",
       "      <td>1509681953418711050</td>\n",
       "      <td>2022-04-01 00:00:00.000000</td>\n",
       "      <td>0</td>\n",
       "      <td>\"The image that Russia acquired over the past ...</td>\n",
       "      <td>[{'text': 'Putin', 'indices': [69, 75]}, {'tex...</td>\n",
       "      <td>NaN</td>\n",
       "      <td>0</td>\n",
       "      <td>2022-04-01 00:44:20.080995</td>\n",
       "      <td>imag russia acquir past two decad putin-medved...</td>\n",
       "      <td>{'neg': 0.064, 'neu': 0.936, 'pos': 0.0, 'comp...</td>\n",
       "    </tr>\n",
       "    <tr>\n",
       "      <th>11</th>\n",
       "      <td>1086730932667568128</td>\n",
       "      <td>QueerTestimony</td>\n",
       "      <td>Church Leader. BA- MBI\\nEarth Scientist. BS, M...</td>\n",
       "      <td>Ontario, Canada</td>\n",
       "      <td>470</td>\n",
       "      <td>261</td>\n",
       "      <td>7766</td>\n",
       "      <td>2019-01-19 21:03:39.000000</td>\n",
       "      <td>1509681953636700160</td>\n",
       "      <td>2022-04-01 00:00:00.000000</td>\n",
       "      <td>0</td>\n",
       "      <td>Sad to read of the #RussianArmy invading of #C...</td>\n",
       "      <td>[{'text': 'RussianArmy', 'indices': [19, 31]},...</td>\n",
       "      <td>NaN</td>\n",
       "      <td>0</td>\n",
       "      <td>2022-04-01 00:09:36.929425</td>\n",
       "      <td>sad read russianarmi invad chernobyl without t...</td>\n",
       "      <td>{'neg': 0.265, 'neu': 0.735, 'pos': 0.0, 'comp...</td>\n",
       "    </tr>\n",
       "    <tr>\n",
       "      <th>19</th>\n",
       "      <td>1023285701872377856</td>\n",
       "      <td>ScoopusaM</td>\n",
       "      <td>Our mission is to provide a platform to discus...</td>\n",
       "      <td>Philadelphia, PA</td>\n",
       "      <td>236</td>\n",
       "      <td>97</td>\n",
       "      <td>1466</td>\n",
       "      <td>2018-07-28 19:14:57.000000</td>\n",
       "      <td>1509681957524979718</td>\n",
       "      <td>2022-04-01 00:00:01.000000</td>\n",
       "      <td>0</td>\n",
       "      <td>Read: https://t.co/kzxUuS6Z4d\\n.\\n.\\n.\\n.\\n.\\n...</td>\n",
       "      <td>[{'text': 'Peace', 'indices': [40, 46]}, {'tex...</td>\n",
       "      <td>NaN</td>\n",
       "      <td>0</td>\n",
       "      <td>2022-04-01 00:44:20.030967</td>\n",
       "      <td>read .\\n.\\n.\\n.\\n. peac ukrain democraci war p...</td>\n",
       "      <td>{'neg': 0.181, 'neu': 0.744, 'pos': 0.074, 'co...</td>\n",
       "    </tr>\n",
       "    <tr>\n",
       "      <th>26</th>\n",
       "      <td>2722503240</td>\n",
       "      <td>vubblePOP</td>\n",
       "      <td>Vubble is here to interpret, understand and da...</td>\n",
       "      <td>Everywhere</td>\n",
       "      <td>2176</td>\n",
       "      <td>3175</td>\n",
       "      <td>62668</td>\n",
       "      <td>2014-08-10 21:38:54.000000</td>\n",
       "      <td>1509681960066584593</td>\n",
       "      <td>2022-04-01 00:00:02.000000</td>\n",
       "      <td>1</td>\n",
       "      <td>🇷🇺💢🇺🇦🛢️⛽️💶\\n\\nPutin says foreign buyers must p...</td>\n",
       "      <td>[{'text': 'Putin', 'indices': [120, 126]}, {'t...</td>\n",
       "      <td>NaN</td>\n",
       "      <td>0</td>\n",
       "      <td>2022-04-01 00:44:19.972569</td>\n",
       "      <td>🇷 🇺 💢 🇺 🇦 🛢 ️ ⛽ ️ 💶 putin say foreign buyer mu...</td>\n",
       "      <td>{'neg': 0.202, 'neu': 0.798, 'pos': 0.0, 'comp...</td>\n",
       "    </tr>\n",
       "    <tr>\n",
       "      <th>34</th>\n",
       "      <td>1269660949776158720</td>\n",
       "      <td>Retractionmedia</td>\n",
       "      <td>Jaime &amp; Antoine debate politics &amp; ponder scien...</td>\n",
       "      <td>New Jersey, USA</td>\n",
       "      <td>1981</td>\n",
       "      <td>2181</td>\n",
       "      <td>7813</td>\n",
       "      <td>2020-06-07 16:02:26.000000</td>\n",
       "      <td>1509681971563319300</td>\n",
       "      <td>2022-04-01 00:00:05.000000</td>\n",
       "      <td>0</td>\n",
       "      <td>Jaime and Antoine discuss their initial reacti...</td>\n",
       "      <td>[{'text': 'Ukraine', 'indices': [72, 80]}, {'t...</td>\n",
       "      <td>NaN</td>\n",
       "      <td>0</td>\n",
       "      <td>2022-04-01 00:14:21.299468</td>\n",
       "      <td>jaim antoin discuss initi reaction ukrain cris...</td>\n",
       "      <td>{'neg': 0.0, 'neu': 1.0, 'pos': 0.0, 'compound...</td>\n",
       "    </tr>\n",
       "  </tbody>\n",
       "</table>\n",
       "</div>"
      ],
      "text/plain": [
       "                 userid         username  \\\n",
       "9   1275475606684172290       medyanews_   \n",
       "11  1086730932667568128   QueerTestimony   \n",
       "19  1023285701872377856        ScoopusaM   \n",
       "26           2722503240        vubblePOP   \n",
       "34  1269660949776158720  Retractionmedia   \n",
       "\n",
       "                                             acctdesc              location  \\\n",
       "9   Medya News offers news, stories, columns, rese...  Kurdistan, Worldwide   \n",
       "11  Church Leader. BA- MBI\\nEarth Scientist. BS, M...       Ontario, Canada   \n",
       "19  Our mission is to provide a platform to discus...      Philadelphia, PA   \n",
       "26  Vubble is here to interpret, understand and da...            Everywhere   \n",
       "34  Jaime & Antoine debate politics & ponder scien...       New Jersey, USA   \n",
       "\n",
       "    following  followers  totaltweets               usercreatedts  \\\n",
       "9         167       6102         6651  2020-06-23 17:07:56.000000   \n",
       "11        470        261         7766  2019-01-19 21:03:39.000000   \n",
       "19        236         97         1466  2018-07-28 19:14:57.000000   \n",
       "26       2176       3175        62668  2014-08-10 21:38:54.000000   \n",
       "34       1981       2181         7813  2020-06-07 16:02:26.000000   \n",
       "\n",
       "                tweetid              tweetcreatedts  retweetcount  \\\n",
       "9   1509681953418711050  2022-04-01 00:00:00.000000             0   \n",
       "11  1509681953636700160  2022-04-01 00:00:00.000000             0   \n",
       "19  1509681957524979718  2022-04-01 00:00:01.000000             0   \n",
       "26  1509681960066584593  2022-04-01 00:00:02.000000             1   \n",
       "34  1509681971563319300  2022-04-01 00:00:05.000000             0   \n",
       "\n",
       "                                                 text  \\\n",
       "9   \"The image that Russia acquired over the past ...   \n",
       "11  Sad to read of the #RussianArmy invading of #C...   \n",
       "19  Read: https://t.co/kzxUuS6Z4d\\n.\\n.\\n.\\n.\\n.\\n...   \n",
       "26  🇷🇺💢🇺🇦🛢️⛽️💶\\n\\nPutin says foreign buyers must p...   \n",
       "34  Jaime and Antoine discuss their initial reacti...   \n",
       "\n",
       "                                             hashtags coordinates  \\\n",
       "9   [{'text': 'Putin', 'indices': [69, 75]}, {'tex...         NaN   \n",
       "11  [{'text': 'RussianArmy', 'indices': [19, 31]},...         NaN   \n",
       "19  [{'text': 'Peace', 'indices': [40, 46]}, {'tex...         NaN   \n",
       "26  [{'text': 'Putin', 'indices': [120, 126]}, {'t...         NaN   \n",
       "34  [{'text': 'Ukraine', 'indices': [72, 80]}, {'t...         NaN   \n",
       "\n",
       "    favorite_count                 extractedts  \\\n",
       "9                0  2022-04-01 00:44:20.080995   \n",
       "11               0  2022-04-01 00:09:36.929425   \n",
       "19               0  2022-04-01 00:44:20.030967   \n",
       "26               0  2022-04-01 00:44:19.972569   \n",
       "34               0  2022-04-01 00:14:21.299468   \n",
       "\n",
       "                                       processed_text  \\\n",
       "9   imag russia acquir past two decad putin-medved...   \n",
       "11  sad read russianarmi invad chernobyl without t...   \n",
       "19  read .\\n.\\n.\\n.\\n. peac ukrain democraci war p...   \n",
       "26  🇷 🇺 💢 🇺 🇦 🛢 ️ ⛽ ️ 💶 putin say foreign buyer mu...   \n",
       "34  jaim antoin discuss initi reaction ukrain cris...   \n",
       "\n",
       "                                               scores  \n",
       "9   {'neg': 0.064, 'neu': 0.936, 'pos': 0.0, 'comp...  \n",
       "11  {'neg': 0.265, 'neu': 0.735, 'pos': 0.0, 'comp...  \n",
       "19  {'neg': 0.181, 'neu': 0.744, 'pos': 0.074, 'co...  \n",
       "26  {'neg': 0.202, 'neu': 0.798, 'pos': 0.0, 'comp...  \n",
       "34  {'neg': 0.0, 'neu': 1.0, 'pos': 0.0, 'compound...  "
      ]
     },
     "execution_count": 80,
     "metadata": {},
     "output_type": "execute_result"
    }
   ],
   "source": [
    "df_en['scores'] = df_en['processed_text'].apply(lambda review: sia.polarity_scores(review)) #apply vader analyser to processed text column\n",
    "                                                                                            #store the sentiment score in a new column name called 'scores'\n",
    "\n",
    "df_en.head()"
   ]
  },
  {
   "cell_type": "code",
   "execution_count": 82,
   "metadata": {},
   "outputs": [
    {
     "data": {
      "text/html": [
       "<div>\n",
       "<style scoped>\n",
       "    .dataframe tbody tr th:only-of-type {\n",
       "        vertical-align: middle;\n",
       "    }\n",
       "\n",
       "    .dataframe tbody tr th {\n",
       "        vertical-align: top;\n",
       "    }\n",
       "\n",
       "    .dataframe thead th {\n",
       "        text-align: right;\n",
       "    }\n",
       "</style>\n",
       "<table border=\"1\" class=\"dataframe\">\n",
       "  <thead>\n",
       "    <tr style=\"text-align: right;\">\n",
       "      <th></th>\n",
       "      <th>userid</th>\n",
       "      <th>username</th>\n",
       "      <th>acctdesc</th>\n",
       "      <th>location</th>\n",
       "      <th>following</th>\n",
       "      <th>followers</th>\n",
       "      <th>totaltweets</th>\n",
       "      <th>usercreatedts</th>\n",
       "      <th>tweetid</th>\n",
       "      <th>tweetcreatedts</th>\n",
       "      <th>retweetcount</th>\n",
       "      <th>text</th>\n",
       "      <th>hashtags</th>\n",
       "      <th>coordinates</th>\n",
       "      <th>favorite_count</th>\n",
       "      <th>extractedts</th>\n",
       "      <th>processed_text</th>\n",
       "      <th>scores</th>\n",
       "      <th>compound</th>\n",
       "    </tr>\n",
       "  </thead>\n",
       "  <tbody>\n",
       "    <tr>\n",
       "      <th>9</th>\n",
       "      <td>1275475606684172290</td>\n",
       "      <td>medyanews_</td>\n",
       "      <td>Medya News offers news, stories, columns, rese...</td>\n",
       "      <td>Kurdistan, Worldwide</td>\n",
       "      <td>167</td>\n",
       "      <td>6102</td>\n",
       "      <td>6651</td>\n",
       "      <td>2020-06-23 17:07:56.000000</td>\n",
       "      <td>1509681953418711050</td>\n",
       "      <td>2022-04-01 00:00:00.000000</td>\n",
       "      <td>0</td>\n",
       "      <td>\"The image that Russia acquired over the past ...</td>\n",
       "      <td>[{'text': 'Putin', 'indices': [69, 75]}, {'tex...</td>\n",
       "      <td>NaN</td>\n",
       "      <td>0</td>\n",
       "      <td>2022-04-01 00:44:20.080995</td>\n",
       "      <td>imag russia acquir past two decad putin-medved...</td>\n",
       "      <td>{'neg': 0.064, 'neu': 0.936, 'pos': 0.0, 'comp...</td>\n",
       "      <td>-0.0772</td>\n",
       "    </tr>\n",
       "    <tr>\n",
       "      <th>11</th>\n",
       "      <td>1086730932667568128</td>\n",
       "      <td>QueerTestimony</td>\n",
       "      <td>Church Leader. BA- MBI\\nEarth Scientist. BS, M...</td>\n",
       "      <td>Ontario, Canada</td>\n",
       "      <td>470</td>\n",
       "      <td>261</td>\n",
       "      <td>7766</td>\n",
       "      <td>2019-01-19 21:03:39.000000</td>\n",
       "      <td>1509681953636700160</td>\n",
       "      <td>2022-04-01 00:00:00.000000</td>\n",
       "      <td>0</td>\n",
       "      <td>Sad to read of the #RussianArmy invading of #C...</td>\n",
       "      <td>[{'text': 'RussianArmy', 'indices': [19, 31]},...</td>\n",
       "      <td>NaN</td>\n",
       "      <td>0</td>\n",
       "      <td>2022-04-01 00:09:36.929425</td>\n",
       "      <td>sad read russianarmi invad chernobyl without t...</td>\n",
       "      <td>{'neg': 0.265, 'neu': 0.735, 'pos': 0.0, 'comp...</td>\n",
       "      <td>-0.7579</td>\n",
       "    </tr>\n",
       "    <tr>\n",
       "      <th>19</th>\n",
       "      <td>1023285701872377856</td>\n",
       "      <td>ScoopusaM</td>\n",
       "      <td>Our mission is to provide a platform to discus...</td>\n",
       "      <td>Philadelphia, PA</td>\n",
       "      <td>236</td>\n",
       "      <td>97</td>\n",
       "      <td>1466</td>\n",
       "      <td>2018-07-28 19:14:57.000000</td>\n",
       "      <td>1509681957524979718</td>\n",
       "      <td>2022-04-01 00:00:01.000000</td>\n",
       "      <td>0</td>\n",
       "      <td>Read: https://t.co/kzxUuS6Z4d\\n.\\n.\\n.\\n.\\n.\\n...</td>\n",
       "      <td>[{'text': 'Peace', 'indices': [40, 46]}, {'tex...</td>\n",
       "      <td>NaN</td>\n",
       "      <td>0</td>\n",
       "      <td>2022-04-01 00:44:20.030967</td>\n",
       "      <td>read .\\n.\\n.\\n.\\n. peac ukrain democraci war p...</td>\n",
       "      <td>{'neg': 0.181, 'neu': 0.744, 'pos': 0.074, 'co...</td>\n",
       "      <td>-0.5106</td>\n",
       "    </tr>\n",
       "    <tr>\n",
       "      <th>26</th>\n",
       "      <td>2722503240</td>\n",
       "      <td>vubblePOP</td>\n",
       "      <td>Vubble is here to interpret, understand and da...</td>\n",
       "      <td>Everywhere</td>\n",
       "      <td>2176</td>\n",
       "      <td>3175</td>\n",
       "      <td>62668</td>\n",
       "      <td>2014-08-10 21:38:54.000000</td>\n",
       "      <td>1509681960066584593</td>\n",
       "      <td>2022-04-01 00:00:02.000000</td>\n",
       "      <td>1</td>\n",
       "      <td>🇷🇺💢🇺🇦🛢️⛽️💶\\n\\nPutin says foreign buyers must p...</td>\n",
       "      <td>[{'text': 'Putin', 'indices': [120, 126]}, {'t...</td>\n",
       "      <td>NaN</td>\n",
       "      <td>0</td>\n",
       "      <td>2022-04-01 00:44:19.972569</td>\n",
       "      <td>🇷 🇺 💢 🇺 🇦 🛢 ️ ⛽ ️ 💶 putin say foreign buyer mu...</td>\n",
       "      <td>{'neg': 0.202, 'neu': 0.798, 'pos': 0.0, 'comp...</td>\n",
       "      <td>-0.6486</td>\n",
       "    </tr>\n",
       "    <tr>\n",
       "      <th>34</th>\n",
       "      <td>1269660949776158720</td>\n",
       "      <td>Retractionmedia</td>\n",
       "      <td>Jaime &amp; Antoine debate politics &amp; ponder scien...</td>\n",
       "      <td>New Jersey, USA</td>\n",
       "      <td>1981</td>\n",
       "      <td>2181</td>\n",
       "      <td>7813</td>\n",
       "      <td>2020-06-07 16:02:26.000000</td>\n",
       "      <td>1509681971563319300</td>\n",
       "      <td>2022-04-01 00:00:05.000000</td>\n",
       "      <td>0</td>\n",
       "      <td>Jaime and Antoine discuss their initial reacti...</td>\n",
       "      <td>[{'text': 'Ukraine', 'indices': [72, 80]}, {'t...</td>\n",
       "      <td>NaN</td>\n",
       "      <td>0</td>\n",
       "      <td>2022-04-01 00:14:21.299468</td>\n",
       "      <td>jaim antoin discuss initi reaction ukrain cris...</td>\n",
       "      <td>{'neg': 0.0, 'neu': 1.0, 'pos': 0.0, 'compound...</td>\n",
       "      <td>0.0000</td>\n",
       "    </tr>\n",
       "  </tbody>\n",
       "</table>\n",
       "</div>"
      ],
      "text/plain": [
       "                 userid         username  \\\n",
       "9   1275475606684172290       medyanews_   \n",
       "11  1086730932667568128   QueerTestimony   \n",
       "19  1023285701872377856        ScoopusaM   \n",
       "26           2722503240        vubblePOP   \n",
       "34  1269660949776158720  Retractionmedia   \n",
       "\n",
       "                                             acctdesc              location  \\\n",
       "9   Medya News offers news, stories, columns, rese...  Kurdistan, Worldwide   \n",
       "11  Church Leader. BA- MBI\\nEarth Scientist. BS, M...       Ontario, Canada   \n",
       "19  Our mission is to provide a platform to discus...      Philadelphia, PA   \n",
       "26  Vubble is here to interpret, understand and da...            Everywhere   \n",
       "34  Jaime & Antoine debate politics & ponder scien...       New Jersey, USA   \n",
       "\n",
       "    following  followers  totaltweets               usercreatedts  \\\n",
       "9         167       6102         6651  2020-06-23 17:07:56.000000   \n",
       "11        470        261         7766  2019-01-19 21:03:39.000000   \n",
       "19        236         97         1466  2018-07-28 19:14:57.000000   \n",
       "26       2176       3175        62668  2014-08-10 21:38:54.000000   \n",
       "34       1981       2181         7813  2020-06-07 16:02:26.000000   \n",
       "\n",
       "                tweetid              tweetcreatedts  retweetcount  \\\n",
       "9   1509681953418711050  2022-04-01 00:00:00.000000             0   \n",
       "11  1509681953636700160  2022-04-01 00:00:00.000000             0   \n",
       "19  1509681957524979718  2022-04-01 00:00:01.000000             0   \n",
       "26  1509681960066584593  2022-04-01 00:00:02.000000             1   \n",
       "34  1509681971563319300  2022-04-01 00:00:05.000000             0   \n",
       "\n",
       "                                                 text  \\\n",
       "9   \"The image that Russia acquired over the past ...   \n",
       "11  Sad to read of the #RussianArmy invading of #C...   \n",
       "19  Read: https://t.co/kzxUuS6Z4d\\n.\\n.\\n.\\n.\\n.\\n...   \n",
       "26  🇷🇺💢🇺🇦🛢️⛽️💶\\n\\nPutin says foreign buyers must p...   \n",
       "34  Jaime and Antoine discuss their initial reacti...   \n",
       "\n",
       "                                             hashtags coordinates  \\\n",
       "9   [{'text': 'Putin', 'indices': [69, 75]}, {'tex...         NaN   \n",
       "11  [{'text': 'RussianArmy', 'indices': [19, 31]},...         NaN   \n",
       "19  [{'text': 'Peace', 'indices': [40, 46]}, {'tex...         NaN   \n",
       "26  [{'text': 'Putin', 'indices': [120, 126]}, {'t...         NaN   \n",
       "34  [{'text': 'Ukraine', 'indices': [72, 80]}, {'t...         NaN   \n",
       "\n",
       "    favorite_count                 extractedts  \\\n",
       "9                0  2022-04-01 00:44:20.080995   \n",
       "11               0  2022-04-01 00:09:36.929425   \n",
       "19               0  2022-04-01 00:44:20.030967   \n",
       "26               0  2022-04-01 00:44:19.972569   \n",
       "34               0  2022-04-01 00:14:21.299468   \n",
       "\n",
       "                                       processed_text  \\\n",
       "9   imag russia acquir past two decad putin-medved...   \n",
       "11  sad read russianarmi invad chernobyl without t...   \n",
       "19  read .\\n.\\n.\\n.\\n. peac ukrain democraci war p...   \n",
       "26  🇷 🇺 💢 🇺 🇦 🛢 ️ ⛽ ️ 💶 putin say foreign buyer mu...   \n",
       "34  jaim antoin discuss initi reaction ukrain cris...   \n",
       "\n",
       "                                               scores  compound  \n",
       "9   {'neg': 0.064, 'neu': 0.936, 'pos': 0.0, 'comp...   -0.0772  \n",
       "11  {'neg': 0.265, 'neu': 0.735, 'pos': 0.0, 'comp...   -0.7579  \n",
       "19  {'neg': 0.181, 'neu': 0.744, 'pos': 0.074, 'co...   -0.5106  \n",
       "26  {'neg': 0.202, 'neu': 0.798, 'pos': 0.0, 'comp...   -0.6486  \n",
       "34  {'neg': 0.0, 'neu': 1.0, 'pos': 0.0, 'compound...    0.0000  "
      ]
     },
     "execution_count": 82,
     "metadata": {},
     "output_type": "execute_result"
    }
   ],
   "source": [
    "df_en['compound']  = df_en['scores'].apply(lambda score_dict: score_dict['compound']) #combine the sentiment score and store it in a new column called compound\n",
    "\n",
    "df_en.head()"
   ]
  },
  {
   "cell_type": "code",
   "execution_count": 83,
   "metadata": {},
   "outputs": [],
   "source": [
    "df_en['Sentiment']=df_en['compound'].apply(lambda c: 'Positive' if c> 0.05 else ('Negative' if c<-0.05 else 'Neutral')) #label the compound scores as Positive,negative or neutral depending on their value. Store the labels in new column called sentiment"
   ]
  },
  {
   "cell_type": "code",
   "execution_count": 84,
   "metadata": {},
   "outputs": [
    {
     "data": {
      "text/plain": [
       "Negative    12101\n",
       "Positive     8887\n",
       "Neutral      8332\n",
       "Name: Sentiment, dtype: int64"
      ]
     },
     "execution_count": 84,
     "metadata": {},
     "output_type": "execute_result"
    }
   ],
   "source": [
    "df_en['Sentiment'].value_counts() #count the number of each sentiments within the dataset"
   ]
  },
  {
   "cell_type": "code",
   "execution_count": 95,
   "metadata": {},
   "outputs": [
    {
     "data": {
      "text/plain": [
       "United States              188\n",
       "Ukraine                    148\n",
       "Brooklyn, New York, USA    145\n",
       "India                      128\n",
       "Canada                     103\n",
       "Name: location, dtype: int64"
      ]
     },
     "execution_count": 95,
     "metadata": {},
     "output_type": "execute_result"
    }
   ],
   "source": [
    "df_en[df_en['Sentiment']=='Positive'].location.value_counts()[:5] #top 5 positive tweeting locations"
   ]
  },
  {
   "cell_type": "code",
   "execution_count": 98,
   "metadata": {},
   "outputs": [
    {
     "data": {
      "image/png": "[encoded data removed]",
      "text/plain": [
       "<Figure size 432x288 with 1 Axes>"
      ]
     },
     "metadata": {
      "needs_background": "light"
     },
     "output_type": "display_data"
    },
    {
     "data": {
      "text/plain": [
       "<Figure size 7200x7200 with 0 Axes>"
      ]
     },
     "metadata": {},
     "output_type": "display_data"
    }
   ],
   "source": [
    "#plot the above resluts in a bar plot\n",
    "\n",
    "sns.barplot(x = df_en[df_en['Sentiment']=='Positive'].location.value_counts()[:5].index, y = df_en.location.value_counts()[:5])\n",
    "plt.title('Positive Tweets by location')\n",
    "plt.xlabel('Location')\n",
    "plt.ylabel('Number of Tweets')\n",
    "plt.figure(figsize=(100,100))\n",
    "sns.despine()\n"
   ]
  },
  {
   "cell_type": "code",
   "execution_count": 99,
   "metadata": {},
   "outputs": [
    {
     "data": {
      "text/plain": [
       "Ukraine          567\n",
       "United States    225\n",
       "USA              187\n",
       "us               178\n",
       "India            168\n",
       "Name: location, dtype: int64"
      ]
     },
     "execution_count": 99,
     "metadata": {},
     "output_type": "execute_result"
    }
   ],
   "source": [
    "#top 5 negative tweeting locations\n",
    "df_en[df_en['Sentiment']=='Negative'].location.value_counts()[:5]"
   ]
  },
  {
   "cell_type": "code",
   "execution_count": 100,
   "metadata": {},
   "outputs": [
    {
     "data": {
      "image/png": "[encoded data removed]",
      "text/plain": [
       "<Figure size 432x288 with 1 Axes>"
      ]
     },
     "metadata": {
      "needs_background": "light"
     },
     "output_type": "display_data"
    },
    {
     "data": {
      "text/plain": [
       "<Figure size 7200x7200 with 0 Axes>"
      ]
     },
     "metadata": {},
     "output_type": "display_data"
    }
   ],
   "source": [
    "sns.barplot(x = df_en[df_en['Sentiment']=='Negative'].location.value_counts()[:5].index, y = df_en.location.value_counts()[:5])\n",
    "plt.title('Negative Tweets by location')\n",
    "plt.xlabel('Location')\n",
    "plt.ylabel('Number of Tweets')\n",
    "plt.figure(figsize=(100,100))\n",
    "sns.despine()"
   ]
  },
  {
   "cell_type": "code",
   "execution_count": 115,
   "metadata": {},
   "outputs": [
    {
     "data": {
      "text/plain": [
       "(8887, 19)"
      ]
     },
     "execution_count": 115,
     "metadata": {},
     "output_type": "execute_result"
    }
   ],
   "source": [
    "df_pos=df_en[df_en[\"Sentiment\"]==\"Positive\"].drop('Sentiment', axis=1) #create a new dataframe df_en and fill it with rows containing English Tweets\n",
    "df_pos.shape"
   ]
  },
  {
   "cell_type": "code",
   "execution_count": 116,
   "metadata": {},
   "outputs": [],
   "source": [
    "sort_pos = df_pos[['username', 'text', 'favorite_count', 'tweetid', ]].sort_values(by = 'favorite_count', ascending = False) #create a new dataframe df_en and fill it with rows containing Positive Tweets"
   ]
  },
  {
   "cell_type": "code",
   "execution_count": 117,
   "metadata": {},
   "outputs": [
    {
     "name": "stdout",
     "output_type": "stream",
     "text": [
      "#Ukrainian forces will likely conduct further offensive operations to drive #Russian forces to the #Belarusian border in the coming days.\n",
      "https://t.co/KV3jRyx7Ue\n"
     ]
    }
   ],
   "source": [
    "favorite_positive = sort_pos.iloc[0] #print the most positive tweet\n",
    "print(favorite_positive.text)"
   ]
  },
  {
   "cell_type": "code",
   "execution_count": 118,
   "metadata": {},
   "outputs": [
    {
     "data": {
      "text/plain": [
       "(12101, 19)"
      ]
     },
     "execution_count": 118,
     "metadata": {},
     "output_type": "execute_result"
    }
   ],
   "source": [
    "df_neg=df_en[df_en[\"Sentiment\"]==\"Negative\"].drop('Sentiment', axis=1) #create a new dataframe df_en and fill it with rows containing Negative Tweets\n",
    "df_neg.shape"
   ]
  },
  {
   "cell_type": "code",
   "execution_count": 120,
   "metadata": {},
   "outputs": [],
   "source": [
    "sort_neg = df_neg[['username', 'text', 'favorite_count', 'tweetid', ]].sort_values(by = 'favorite_count', ascending = False)"
   ]
  },
  {
   "cell_type": "code",
   "execution_count": 122,
   "metadata": {},
   "outputs": [
    {
     "name": "stdout",
     "output_type": "stream",
     "text": [
      "Day 37: From #Snipers to #Scouts &amp; Spl Forces: #Ukraine army firms up presence in #Irpin, #Bucha, #Brovary &amp; beyond. #Russia says reduction in hostilities a confidence building measure, Ukraine forces say #Russian forces pushed back after hard fought battles.\n",
      " #RussiaUkraineWar. https://t.co/BB2kYVzUtZ\n"
     ]
    }
   ],
   "source": [
    "favorite_negative = sort_neg.iloc[0] #Print the most negative tweet\n",
    "print(favorite_negative.text)"
   ]
  },
  {
   "cell_type": "code",
   "execution_count": 31,
   "metadata": {},
   "outputs": [],
   "source": [
    "df_en.to_csv(r'D:\\Coursera\\engtweets.csv') #export the dataset as csv"
   ]
  },
  {
   "cell_type": "code",
   "execution_count": null,
   "metadata": {},
   "outputs": [],
   "source": []
  },
  {
   "cell_type": "code",
   "execution_count": null,
   "metadata": {},
   "outputs": [],
   "source": []
  }
 ],
 "metadata": {
  "interpreter": {
   "hash": "21aa5a01783a1558f6e044bd854bd57c5bde888442ee104351ff60bc4a6bde76"
  },
  "kernelspec": {
   "display_name": "Python 3 (ipykernel)",
   "language": "python",
   "name": "python3"
  },
  "language_info": {
   "codemirror_mode": {
    "name": "ipython",
    "version": 3
   },
   "file_extension": ".py",
   "mimetype": "text/x-python",
   "name": "python",
   "nbconvert_exporter": "python",
   "pygments_lexer": "ipython3",
   "version": "3.9.12"
  }
 },
 "nbformat": 4,
 "nbformat_minor": 2
}
