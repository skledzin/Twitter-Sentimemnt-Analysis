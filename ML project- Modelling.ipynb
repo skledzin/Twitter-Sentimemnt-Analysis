{
 "cells": [
  {
   "cell_type": "code",
   "execution_count": 38,
   "metadata": {},
   "outputs": [],
   "source": [
    "#data manipulation libraries\n",
    "\n",
    "import pandas as pd\n",
    "#data manipulation libraries\n",
    "import csv\n",
    "import pandas as pd\n",
    "import numpy as np\n",
    "import re\n",
    "import string\n",
    "\n",
    "#methods and stopwords\n",
    "from nltk.corpus import stopwords\n",
    "from nltk.tokenize import word_tokenize\n",
    "from nltk.stem import PorterStemmer\n",
    "from nltk.stem import WordNetLemmatizer\n",
    "from nltk.corpus import stopwords\n",
    "from nltk.stem import PorterStemmer\n",
    "from nltk.tokenize import TweetTokenizer\n",
    "from sklearn.feature_extraction.text import TfidfVectorizer\n",
    "from sklearn.feature_extraction.text import CountVectorizer\n",
    "from sklearn.model_selection import train_test_split\n",
    "\n",
    "##Machine Learning Libraries\n",
    "from sklearn.metrics import accuracy_score\n",
    "from sklearn.naive_bayes import MultinomialNB\n",
    "from sklearn.linear_model import LogisticRegression\n",
    "from sklearn.svm import LinearSVC\n",
    "from sklearn.neighbors import KNeighborsClassifier\n",
    "from sklearn.tree import DecisionTreeClassifier\n",
    "from sklearn.ensemble import RandomForestClassifier\n",
    "\n",
    "\n",
    "import warnings\n",
    "warnings.filterwarnings (\"ignore\")"
   ]
  },
  {
   "cell_type": "code",
   "execution_count": 26,
   "metadata": {},
   "outputs": [
    {
     "name": "stdout",
     "output_type": "stream",
     "text": [
      "Requirement already satisfied: nltk in c:\\users\\hchas\\anaconda3\\lib\\site-packages (3.7)\n",
      "Requirement already satisfied: regex>=2021.8.3 in c:\\users\\hchas\\anaconda3\\lib\\site-packages (from nltk) (2022.3.15)\n",
      "Requirement already satisfied: click in c:\\users\\hchas\\anaconda3\\lib\\site-packages (from nltk) (8.0.4)\n",
      "Requirement already satisfied: joblib in c:\\users\\hchas\\anaconda3\\lib\\site-packages (from nltk) (1.1.0)\n",
      "Requirement already satisfied: tqdm in c:\\users\\hchas\\anaconda3\\lib\\site-packages (from nltk) (4.64.0)\n",
      "Requirement already satisfied: colorama in c:\\users\\hchas\\anaconda3\\lib\\site-packages (from click->nltk) (0.4.4)\n",
      "Note: you may need to restart the kernel to use updated packages.\n"
     ]
    }
   ],
   "source": [
    "pip install --user -U nltk"
   ]
  },
  {
   "cell_type": "code",
   "execution_count": 3,
   "metadata": {},
   "outputs": [
    {
     "name": "stderr",
     "output_type": "stream",
     "text": [
      "[nltk_data] Downloading package stopwords to\n",
      "[nltk_data]     C:\\Users\\hchas\\AppData\\Roaming\\nltk_data...\n",
      "[nltk_data]   Unzipping corpora\\stopwords.zip.\n"
     ]
    },
    {
     "data": {
      "text/plain": [
       "True"
      ]
     },
     "execution_count": 3,
     "metadata": {},
     "output_type": "execute_result"
    }
   ],
   "source": [
    "import nltk\n",
    "nltk.download('stopwords')"
   ]
  },
  {
   "cell_type": "code",
   "execution_count": 42,
   "metadata": {},
   "outputs": [],
   "source": [
    "df = pd.read_csv(r\"D:\\Coursera\\engtweets.csv\")"
   ]
  },
  {
   "cell_type": "code",
   "execution_count": 43,
   "metadata": {},
   "outputs": [],
   "source": [
    "dataset =df[['Sentiment','text']]\n",
    "text, sentiment = list(dataset['text']), list(dataset['Sentiment'])"
   ]
  },
  {
   "cell_type": "code",
   "execution_count": 44,
   "metadata": {},
   "outputs": [],
   "source": [
    "def preprocess(textdata):\n",
    "    processedText = []\n",
    "    \n",
    "    # Create Lemmatizer and Stemmer.\n",
    "    wordLemm = WordNetLemmatizer()\n",
    "    \n",
    "    # Defining regex patterns.\n",
    "    urlPattern        = r\"((http://)[^ ]*|(https://)[^ ]*|( www\\.)[^ ]*)\"\n",
    "    userPattern       = '@[^\\s]+'\n",
    "    alphaPattern      = \"[^a-zA-Z0-9]\"\n",
    "    sequencePattern   = r\"(.)\\1\\1+\"\n",
    "    seqReplacePattern = r\"\\1\\1\"\n",
    "    \n",
    "    for tweet in textdata:\n",
    "        tweet = tweet.lower()\n",
    "        \n",
    "        # Replace all URls with 'URL'\n",
    "        tweet = re.sub(urlPattern,' URL',tweet)\n",
    "        \n",
    "           \n",
    "        # Replace @USERNAME to 'USER'.\n",
    "        tweet = re.sub(userPattern,' USER', tweet)        \n",
    "        # Replace all non alphabets.\n",
    "        tweet = re.sub(alphaPattern, \" \", tweet)\n",
    "        # Replace 3 or more consecutive letters by 2 letter.\n",
    "        tweet = re.sub(sequencePattern, seqReplacePattern, tweet)\n",
    "\n",
    "        tweetwords = ''\n",
    "        for word in tweet.split():\n",
    "            # Checking if the word is a stopword.\n",
    "            #if word not in stopwordlist:\n",
    "            if len(word)>1:\n",
    "                # Lemmatizing the word.\n",
    "                word = wordLemm.lemmatize(word)\n",
    "                tweetwords += (word+' ')\n",
    "            \n",
    "        processedText.append(tweetwords)\n",
    "        \n",
    "    return processedText"
   ]
  },
  {
   "cell_type": "code",
   "execution_count": 45,
   "metadata": {},
   "outputs": [
    {
     "name": "stdout",
     "output_type": "stream",
     "text": [
      "Data Split done.\n"
     ]
    }
   ],
   "source": [
    "X_train, X_test, y_train, y_test = train_test_split(text, sentiment,\n",
    "                                                    test_size = 0.25, random_state = 0) #splitting the data into training and test set\n",
    "print(f'Data Split done.')"
   ]
  },
  {
   "cell_type": "code",
   "execution_count": 9,
   "metadata": {},
   "outputs": [
    {
     "name": "stderr",
     "output_type": "stream",
     "text": [
      "[nltk_data] Downloading package punkt to\n",
      "[nltk_data]     C:\\Users\\hchas\\AppData\\Roaming\\nltk_data...\n",
      "[nltk_data]   Unzipping tokenizers\\punkt.zip.\n"
     ]
    },
    {
     "data": {
      "text/plain": [
       "True"
      ]
     },
     "execution_count": 9,
     "metadata": {},
     "output_type": "execute_result"
    }
   ],
   "source": [
    "import time\n",
    "import nltk\n",
    "nltk.download('punkt')"
   ]
  },
  {
   "cell_type": "code",
   "execution_count": 28,
   "metadata": {},
   "outputs": [
    {
     "name": "stderr",
     "output_type": "stream",
     "text": [
      "[nltk_data] Downloading package omw-1.4 to\n",
      "[nltk_data]     C:\\Users\\hchas\\AppData\\Roaming\\nltk_data...\n",
      "[nltk_data]   Unzipping corpora\\omw-1.4.zip.\n"
     ]
    },
    {
     "data": {
      "text/plain": [
       "True"
      ]
     },
     "execution_count": 28,
     "metadata": {},
     "output_type": "execute_result"
    }
   ],
   "source": [
    "\n",
    "nltk.download('omw-1.4')"
   ]
  },
  {
   "cell_type": "code",
   "execution_count": 29,
   "metadata": {},
   "outputs": [
    {
     "name": "stderr",
     "output_type": "stream",
     "text": [
      "[nltk_data] Downloading package wordnet to\n",
      "[nltk_data]     C:\\Users\\hchas\\AppData\\Roaming\\nltk_data...\n",
      "[nltk_data]   Package wordnet is already up-to-date!\n"
     ]
    },
    {
     "name": "stdout",
     "output_type": "stream",
     "text": [
      "Text Preprocessing complete.\n"
     ]
    }
   ],
   "source": [
    "\n",
    "nltk.download('wordnet')\n",
    "t = time.time()\n",
    "processedtext = preprocess(text)\n",
    "print(f'Text Preprocessing complete.')\n"
   ]
  },
  {
   "cell_type": "code",
   "execution_count": 46,
   "metadata": {},
   "outputs": [
    {
     "name": "stdout",
     "output_type": "stream",
     "text": [
      "Vectoriser fitted.\n",
      "No. of feature_words:  311301\n"
     ]
    }
   ],
   "source": [
    "vectoriser = CountVectorizer(ngram_range=(1,2), max_features=500000)\n",
    "vectoriser.fit(X_train)\n",
    "print(f'Vectoriser fitted.')\n",
    "print('No. of feature_words: ', len(vectoriser.get_feature_names()))"
   ]
  },
  {
   "cell_type": "code",
   "execution_count": 47,
   "metadata": {},
   "outputs": [
    {
     "name": "stdout",
     "output_type": "stream",
     "text": [
      "Data Transformed.\n"
     ]
    }
   ],
   "source": [
    "X_train = vectoriser.transform(X_train)\n",
    "X_test  = vectoriser.transform(X_test)\n",
    "print(f'Data Transformed.')"
   ]
  },
  {
   "cell_type": "code",
   "execution_count": 49,
   "metadata": {},
   "outputs": [],
   "source": [
    "import sklearn.metrics as metrics"
   ]
  },
  {
   "cell_type": "code",
   "execution_count": 50,
   "metadata": {},
   "outputs": [
    {
     "name": "stdout",
     "output_type": "stream",
     "text": [
      "Classification Report: \n",
      "               precision    recall  f1-score   support\n",
      "\n",
      "    Negative       0.86      0.84      0.85      2819\n",
      "     Neutral       0.74      0.86      0.80      2001\n",
      "    Positive       0.87      0.76      0.81      2116\n",
      "\n",
      "    accuracy                           0.82      6936\n",
      "   macro avg       0.82      0.82      0.82      6936\n",
      "weighted avg       0.83      0.82      0.82      6936\n",
      "\n",
      "Confusion Matrix: \n",
      " [[2357  310  152]\n",
      " [ 178 1727   96]\n",
      " [ 208  291 1617]]\n",
      "Accuracy Score: \n",
      " 0.8219434832756632\n"
     ]
    }
   ],
   "source": [
    "LRmodel = LogisticRegression(C = 2, max_iter = 1000, n_jobs=-1)\n",
    "LRmodel.fit(X_train, y_train)\n",
    "ys_predict = LRmodel.predict(X_test)\n",
    "#Display the outcome of classification\n",
    "print('Classification Report: \\n',metrics.classification_report(y_test, ys_predict))\n",
    "print('Confusion Matrix: \\n',metrics.confusion_matrix(y_test, ys_predict))\n",
    "print('Accuracy Score: \\n',metrics.accuracy_score(y_test, ys_predict))"
   ]
  },
  {
   "cell_type": "code",
   "execution_count": 51,
   "metadata": {},
   "outputs": [
    {
     "name": "stdout",
     "output_type": "stream",
     "text": [
      "Classification Report: \n",
      "               precision    recall  f1-score   support\n",
      "\n",
      "    Negative       0.60      0.94      0.73      2819\n",
      "     Neutral       0.87      0.36      0.51      2001\n",
      "    Positive       0.75      0.59      0.66      2116\n",
      "\n",
      "    accuracy                           0.67      6936\n",
      "   macro avg       0.74      0.63      0.63      6936\n",
      "weighted avg       0.72      0.67      0.64      6936\n",
      "\n",
      "Confusion Matrix: \n",
      " [[2661   52  106]\n",
      " [ 973  714  314]\n",
      " [ 819   52 1245]]\n",
      "Accuracy Score: \n",
      " 0.6660899653979239\n"
     ]
    }
   ],
   "source": [
    "NB=MultinomialNB(alpha=1)\n",
    "NB.fit(X_train,y_train)\n",
    "ys_predict=NB.predict(X_test)\n",
    "print('Classification Report: \\n',metrics.classification_report(y_test, ys_predict))\n",
    "print('Confusion Matrix: \\n',metrics.confusion_matrix(y_test, ys_predict))\n",
    "print('Accuracy Score: \\n',metrics.accuracy_score(y_test, ys_predict))"
   ]
  },
  {
   "cell_type": "code",
   "execution_count": 36,
   "metadata": {},
   "outputs": [
    {
     "name": "stdout",
     "output_type": "stream",
     "text": [
      "Classification Report: \n",
      "               precision    recall  f1-score   support\n",
      "\n",
      "    Negative       0.90      0.87      0.89       555\n",
      "     Neutral       0.80      0.90      0.84       412\n",
      "    Positive       0.88      0.81      0.85       421\n",
      "\n",
      "    accuracy                           0.86      1388\n",
      "   macro avg       0.86      0.86      0.86      1388\n",
      "weighted avg       0.86      0.86      0.86      1388\n",
      "\n",
      "Confusion Matrix: \n",
      " [[482  47  26]\n",
      " [ 21 370  21]\n",
      " [ 30  48 343]]\n",
      "Accuracy Score: \n",
      " 0.8609510086455331\n"
     ]
    }
   ],
   "source": [
    "SVCmodel = LinearSVC()\n",
    "SVCmodel.fit(X_train, y_train)\n",
    "ys_predict = SVCmodel.predict(X_test)\n",
    "#Display the outcome of classification\n",
    "print('Classification Report: \\n',metrics.classification_report(y_test, ys_predict))\n",
    "print('Confusion Matrix: \\n',metrics.confusion_matrix(y_test, ys_predict))\n",
    "print('Accuracy Score: \\n',metrics.accuracy_score(y_test, ys_predict))"
   ]
  },
  {
   "cell_type": "code",
   "execution_count": 52,
   "metadata": {},
   "outputs": [
    {
     "name": "stdout",
     "output_type": "stream",
     "text": [
      "Classification Report: \n",
      "               precision    recall  f1-score   support\n",
      "\n",
      "    Negative       0.75      0.71      0.73      2819\n",
      "     Neutral       0.66      0.77      0.71      2001\n",
      "    Positive       0.72      0.66      0.69      2116\n",
      "\n",
      "    accuracy                           0.71      6936\n",
      "   macro avg       0.71      0.71      0.71      6936\n",
      "weighted avg       0.72      0.71      0.71      6936\n",
      "\n",
      "Confusion Matrix: \n",
      " [[2008  449  362]\n",
      " [ 288 1531  182]\n",
      " [ 364  348 1404]]\n",
      "Accuracy Score: \n",
      " 0.7126585928489043\n"
     ]
    }
   ],
   "source": [
    "DTCModel = DecisionTreeClassifier(random_state=0)\n",
    "DTCModel.fit(X_train, y_train)\n",
    "ys_predict = DTCModel.predict(X_test)\n",
    "#Display the outcome of classification\n",
    "print('Classification Report: \\n',metrics.classification_report(y_test, ys_predict))\n",
    "print('Confusion Matrix: \\n',metrics.confusion_matrix(y_test, ys_predict))\n",
    "print('Accuracy Score: \\n',metrics.accuracy_score(y_test, ys_predict))"
   ]
  },
  {
   "cell_type": "code",
   "execution_count": 54,
   "metadata": {},
   "outputs": [
    {
     "name": "stdout",
     "output_type": "stream",
     "text": [
      "Classification Report: \n",
      "               precision    recall  f1-score   support\n",
      "\n",
      "    Negative       0.74      0.81      0.77      2819\n",
      "     Neutral       0.66      0.82      0.73      2001\n",
      "    Positive       0.88      0.56      0.68      2116\n",
      "\n",
      "    accuracy                           0.74      6936\n",
      "   macro avg       0.76      0.73      0.73      6936\n",
      "weighted avg       0.76      0.74      0.73      6936\n",
      "\n",
      "Confusion Matrix: \n",
      " [[2283  431  105]\n",
      " [ 295 1645   61]\n",
      " [ 513  427 1176]]\n",
      "Accuracy Score: \n",
      " 0.7358708189158016\n"
     ]
    }
   ],
   "source": [
    "RFCModel = RandomForestClassifier(n_estimators=100)\n",
    "RFCModel.fit(X_train, y_train)\n",
    "ys_predict = RFCModel.predict(X_test)\n",
    "#Display the outcome of classification\n",
    "print('Classification Report: \\n',metrics.classification_report(y_test, ys_predict))\n",
    "print('Confusion Matrix: \\n',metrics.confusion_matrix(y_test, ys_predict))\n",
    "print('Accuracy Score: \\n',metrics.accuracy_score(y_test, ys_predict))"
   ]
  },
  {
   "cell_type": "code",
   "execution_count": 56,
   "metadata": {},
   "outputs": [],
   "source": []
  },
  {
   "cell_type": "code",
   "execution_count": null,
   "metadata": {},
   "outputs": [],
   "source": []
  },
  {
   "cell_type": "code",
   "execution_count": null,
   "metadata": {},
   "outputs": [],
   "source": []
  }
 ],
 "metadata": {
  "interpreter": {
   "hash": "21aa5a01783a1558f6e044bd854bd57c5bde888442ee104351ff60bc4a6bde76"
  },
  "kernelspec": {
   "display_name": "Python 3 (ipykernel)",
   "language": "python",
   "name": "python3"
  },
  "language_info": {
   "codemirror_mode": {
    "name": "ipython",
    "version": 3
   },
   "file_extension": ".py",
   "mimetype": "text/x-python",
   "name": "python",
   "nbconvert_exporter": "python",
   "pygments_lexer": "ipython3",
   "version": "3.9.12"
  }
 },
 "nbformat": 4,
 "nbformat_minor": 2
}
